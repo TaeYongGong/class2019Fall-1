{
 "cells": [
  {
   "cell_type": "markdown",
   "metadata": {},
   "source": [
    "# 10.29 수업"
   ]
  },
  {
   "cell_type": "markdown",
   "metadata": {},
   "source": [
    "t=0\n",
    "for p in range(3):\n",
    "    if p<=1:\n",
    "        for q in range(4):\n",
    "            t+=q\n",
    "        for r in range(2):\n",
    "            t+=r\n",
    "print(t*r)\n",
    "이것의 답은 error가 아니라 14다."
   ]
  },
  {
   "cell_type": "markdown",
   "metadata": {},
   "source": [
    "데이터 \n",
    "1. 소리데이터\n",
    "2. 영상데이터\n",
    "3. 텍스트데이터\n",
    "4. 숫자데이터 - 반드시 숫자의 열로 표현이 되어야 함. 이런 숫자의 열을 가르켜 벡터라고 한다 \n",
    "\n",
    "이미지 -> 숫자의 집합 -> 여기서 중요한 개념이 행렬임 \n",
    "검정 -> 0 색깔에 따라 숫자가 배정되어 있음 \n",
    "\n",
    "이런 숫자 값들은 직사각형의 형태로 배열 (행렬)\n",
    "가로는 행 / 세로는 열\n",
    "\n",
    "숫자들을 한 줄로 펼치면 숫자의 긴 나열 -> 벡터\n",
    "모든 데이터는 벡터의 형태로 되어야 함. \n",
    "행렬은 벡터가 아님 / 길게 만들어야지 벡터가 됨 \n",
    "이미지는 행렬이고 그것을 길게 늘어놓은걸 벡터화한다고 한다. \n",
    "모든 것은 벡터화 해야지 다루기가 쉬움\n",
    "컬러는 rgb라느 개념이 들어감 \n",
    "\n",
    "동영상은 프레임이라는 개념이 들어가서 시간별로 이미지가 계속 있는 것임 \n",
    "영상은 -> 흑백이미지는 2차원 / 컬러이미지는 3차원(흑의 정도 / rgb가 z축으로 존재) / 영상은 4차원(컬러 이미지에 시간이라는 축이 추가) \n",
    "\n",
    "소리 -> 어떻게 벡터라이즈가 될까?\n",
    "소리 -> discrete한 값들로 되어 있음 -> 이것들이 붕괴되면서 숫자 값들이 된다. -> 벡터화 된다 \n",
    "\n",
    "텍스트\n",
    "사전이 있다고 하면 50000 단어가 있으면 첫번째 단어를 벡터화 시킬때 1000...0000 / 5만번째 단어는 0000...000001\n",
    "모든 데이터는 벡터화 시킨다 \n",
    "\n",
    "벡터와 행렬이라는 개념 소개 "
   ]
  },
  {
   "cell_type": "markdown",
   "metadata": {},
   "source": [
    "library 중에 가장 중요한것이 numpy라는 library \n",
    "list 중에서도 숫자가 들어갈 때 "
   ]
  },
  {
   "cell_type": "code",
   "execution_count": 9,
   "metadata": {},
   "outputs": [
    {
     "data": {
      "text/plain": [
       "[1, 3, 5, 2, 4, 6]"
      ]
     },
     "execution_count": 9,
     "metadata": {},
     "output_type": "execute_result"
    }
   ],
   "source": [
    "a = [1, 3, 5]\n",
    "b = [2, 4, 6]\n",
    "c = a + b\n",
    "c"
   ]
  },
  {
   "cell_type": "markdown",
   "metadata": {},
   "source": [
    "숫자를 의미있는 배열을 하게 해줄 때 numpy 함수를 쓴다 "
   ]
  },
  {
   "cell_type": "code",
   "execution_count": 10,
   "metadata": {},
   "outputs": [],
   "source": [
    "import numpy as np\n",
    "# 사실상, numpy를 설치하고 단순히 import numpy 만 해도 되지만, \n",
    "# 이를 코드에서 보다 편하게 사용하기 위해 as np 를 붙임으로써 np라는 이름으로 numpy를 사용."
   ]
  },
  {
   "cell_type": "code",
   "execution_count": 11,
   "metadata": {},
   "outputs": [],
   "source": [
    "A = np.array(a)\n",
    "B = np.array(b) \n",
    "# array는 계산이 가능한 걸로 바꿔주는 함수 / 이걸 쓰기 위해서는 numpy를 써줘야 함\n",
    "# numpy에서는 기본적으로 array라는 단위로 데이터를 관리하며 이에 대해 연산을 수행\n",
    "# array는 말그대로 행렬이라는 개념으로 생각."
   ]
  },
  {
   "cell_type": "code",
   "execution_count": 17,
   "metadata": {},
   "outputs": [
    {
     "name": "stdout",
     "output_type": "stream",
     "text": [
      "[1 3 5]\n",
      "[2 4 6]\n"
     ]
    }
   ],
   "source": [
    "print(A)\n",
    "print(B)\n",
    "# 밑의 형식으로 행렬을 만들어 준다. A는 1*3 / B는 1*3 "
   ]
  },
  {
   "cell_type": "code",
   "execution_count": 12,
   "metadata": {},
   "outputs": [
    {
     "data": {
      "text/plain": [
       "array([ 3,  7, 11])"
      ]
     },
     "execution_count": 12,
     "metadata": {},
     "output_type": "execute_result"
    }
   ],
   "source": [
    "A + B\n",
    "# numpy를 통해 계산 가능하게 해주고 행렬로서 계산을 한다"
   ]
  },
  {
   "cell_type": "code",
   "execution_count": 13,
   "metadata": {
    "scrolled": true
   },
   "outputs": [
    {
     "data": {
      "text/plain": [
       "numpy.ndarray"
      ]
     },
     "execution_count": 13,
     "metadata": {},
     "output_type": "execute_result"
    }
   ],
   "source": [
    "type(A)\n",
    "# numpy이면서 행렬이다. "
   ]
  },
  {
   "cell_type": "code",
   "execution_count": 14,
   "metadata": {},
   "outputs": [],
   "source": [
    "X = np.array([[1,2,3,],[4,5,6]])\n",
    "# array는 행렬처럼 만들어주는 함수 "
   ]
  },
  {
   "cell_type": "code",
   "execution_count": 15,
   "metadata": {
    "scrolled": false
   },
   "outputs": [
    {
     "data": {
      "text/plain": [
       "array([[1, 2, 3],\n",
       "       [4, 5, 6]])"
      ]
     },
     "execution_count": 15,
     "metadata": {},
     "output_type": "execute_result"
    }
   ],
   "source": [
    "X"
   ]
  },
  {
   "cell_type": "code",
   "execution_count": 16,
   "metadata": {},
   "outputs": [
    {
     "data": {
      "text/plain": [
       "(2, 3)"
      ]
     },
     "execution_count": 16,
     "metadata": {},
     "output_type": "execute_result"
    }
   ],
   "source": [
    "X.shape\n",
    "# 2 by 3 행렬이라고 알려줌 / shape는 어떤 형태의 행렬인지 알려줌 \n",
    "# numpy에서는 해당 array의 크기를 알 수 있다.\n",
    "#shape 을 확인함으로써 몇개의 데이터가 있는지, 몇 차원으로 존재하는지 등을 확인할 수 있다."
   ]
  },
  {
   "cell_type": "markdown",
   "metadata": {},
   "source": [
    "# 10월 31일 수업 "
   ]
  },
  {
   "cell_type": "markdown",
   "metadata": {},
   "source": [
    "중요한 함수들이 그 함수들이 모여있는 라이브러리를 불러와야 함. \n",
    "NumPy basics\n",
    "함수가 들어있는 어떤 라이브러리를 / 패키지를 numpy라고 해서 누가 만들어 놓음 \n",
    "numpy안에 부분 집합을 계속 만들 수 있음 \n",
    "내부적에 있는 것을 부를때 numpy.A.D.함수 numpy안 A안 D안의 함수 \n",
    ".은 부분집합을 구분해주는 표시 \n",
    "import numpy -> numpy안에 있는 것을 쓸 수 가 있다 .\n",
    "or from numpy import A.D\n",
    "import라는 큰 개념으로 numpy를 불러오면서 쭉욱 부분을 나누는 방법과(구체적인 것이 필요가 없을 때)\n",
    "from을 이용해서 아예 D만 부르는 함수가 있음 "
   ]
  },
  {
   "cell_type": "markdown",
   "metadata": {},
   "source": [
    "# 1. Creation"
   ]
  },
  {
   "cell_type": "code",
   "execution_count": 2,
   "metadata": {},
   "outputs": [],
   "source": [
    "import numpy as np\n",
    "import matplotlib.pyplot as plt # matplotlib에서 pyplot을 가져오는 것 // from matplotlib import pyplot as plt를 하면 그 다음부터는 plt를 쓰면 된다.\n",
    "# numpy는 list과 비슷한데 수학적으로 계산을 하기 위해 쓴다 "
   ]
  },
  {
   "cell_type": "code",
   "execution_count": 3,
   "metadata": {},
   "outputs": [
    {
     "data": {
      "text/plain": [
       "array([[         0, 1072168960,          0],\n",
       "       [1072168960,          0,          0]])"
      ]
     },
     "execution_count": 3,
     "metadata": {},
     "output_type": "execute_result"
    }
   ],
   "source": [
    "np.empty([2,3], dtype='int') \n",
    "# numpy 중 empty 최고 상단에 있는 함수를 뜻함 / dtype = data type으로 int는 정수형 float는 실수형 등의 자료형을 만들어 준다 "
   ]
  },
  {
   "cell_type": "code",
   "execution_count": 4,
   "metadata": {},
   "outputs": [
    {
     "data": {
      "text/plain": [
       "array([[0., 0., 0.],\n",
       "       [0., 0., 0.]])"
      ]
     },
     "execution_count": 4,
     "metadata": {},
     "output_type": "execute_result"
    }
   ],
   "source": [
    "np.zeros([2,3])\n",
    "# 2,3의 행렬을 만들어 냄 / 그대신 0으로 채워져 있음 "
   ]
  },
  {
   "cell_type": "code",
   "execution_count": 5,
   "metadata": {},
   "outputs": [
    {
     "data": {
      "text/plain": [
       "array([[0, 0, 0],\n",
       "       [0, 0, 0]])"
      ]
     },
     "execution_count": 5,
     "metadata": {},
     "output_type": "execute_result"
    }
   ],
   "source": [
    "np.array([[0,0,0],[0,0,0]])\n",
    "# list'[]'<한번>에서 array'[]'<두번>로 만들어 줌 / 마지막에 ()로 끝"
   ]
  },
  {
   "cell_type": "code",
   "execution_count": 6,
   "metadata": {},
   "outputs": [
    {
     "data": {
      "text/plain": [
       "array([[1., 1., 1.],\n",
       "       [1., 1., 1.]])"
      ]
     },
     "execution_count": 6,
     "metadata": {},
     "output_type": "execute_result"
    }
   ],
   "source": [
    "np.ones([2,3])\n",
    "# one 은 1.으로 표시된다는 것을 알 수 있다. "
   ]
  },
  {
   "cell_type": "code",
   "execution_count": 7,
   "metadata": {},
   "outputs": [
    {
     "data": {
      "text/plain": [
       "array([[1, 1, 1],\n",
       "       [1, 1, 1]])"
      ]
     },
     "execution_count": 7,
     "metadata": {},
     "output_type": "execute_result"
    }
   ],
   "source": [
    "np.ones([2,3], dtype='int')\n",
    "# int를 통해서 정수형을 만들어 준다"
   ]
  },
  {
   "cell_type": "code",
   "execution_count": 8,
   "metadata": {},
   "outputs": [
    {
     "data": {
      "text/plain": [
       "array([[1., 1., 1.],\n",
       "       [1., 1., 1.]])"
      ]
     },
     "execution_count": 8,
     "metadata": {},
     "output_type": "execute_result"
    }
   ],
   "source": [
    "np.ones([2,3], dtype='float')"
   ]
  },
  {
   "cell_type": "code",
   "execution_count": 9,
   "metadata": {},
   "outputs": [
    {
     "data": {
      "text/plain": [
       "array([0, 1, 2, 3, 4])"
      ]
     },
     "execution_count": 9,
     "metadata": {},
     "output_type": "execute_result"
    }
   ],
   "source": [
    "np.arange(5)\n",
    "# arange 명령은 NumPy 버전의 range 명령"
   ]
  },
  {
   "cell_type": "code",
   "execution_count": 10,
   "metadata": {},
   "outputs": [
    {
     "data": {
      "text/plain": [
       "array([0, 1, 2, 3, 4, 5, 6, 7, 8, 9])"
      ]
     },
     "execution_count": 10,
     "metadata": {},
     "output_type": "execute_result"
    }
   ],
   "source": [
    "np.arange(0,10)"
   ]
  },
  {
   "cell_type": "code",
   "execution_count": 11,
   "metadata": {},
   "outputs": [
    {
     "data": {
      "text/plain": [
       "array([0, 2, 4, 6, 8])"
      ]
     },
     "execution_count": 11,
     "metadata": {},
     "output_type": "execute_result"
    }
   ],
   "source": [
    "np.arange(0,10,2)\n",
    "# 0투버 10까지 2만큼 띄우면서 정렬 <0,2,4,6,8> -> <10번째 수까지 안에서> "
   ]
  },
  {
   "cell_type": "code",
   "execution_count": 12,
   "metadata": {},
   "outputs": [
    {
     "data": {
      "text/plain": [
       "array([0., 2., 4., 6., 8.])"
      ]
     },
     "execution_count": 12,
     "metadata": {},
     "output_type": "execute_result"
    }
   ],
   "source": [
    "np.arange(0,10,2, dtype='float64')\n",
    "# float32는 32비트를 사용하고 float64는 64비트를 사용함"
   ]
  },
  {
   "cell_type": "code",
   "execution_count": 13,
   "metadata": {},
   "outputs": [
    {
     "data": {
      "text/plain": [
       "array([ 0.,  2.,  4.,  6.,  8., 10.])"
      ]
     },
     "execution_count": 13,
     "metadata": {},
     "output_type": "execute_result"
    }
   ],
   "source": [
    "np.linspace(0,10,6)\n",
    "# linspace 0부터 10까지 6으로 나눈 수 / 숫자의 차이가 다 똑같음 / 시작점과 끝점을 균일 간격으로 나눈 점들을 생성해 줌 "
   ]
  },
  {
   "cell_type": "code",
   "execution_count": 14,
   "metadata": {},
   "outputs": [
    {
     "data": {
      "text/plain": [
       "array([0.        , 0.83333333, 1.66666667, 2.5       , 3.33333333,\n",
       "       4.16666667, 5.        ])"
      ]
     },
     "execution_count": 14,
     "metadata": {},
     "output_type": "execute_result"
    }
   ],
   "source": [
    "np.linspace(0,5,7)\n",
    "# 0으로 시작 5로 끝나는 배열을 7개의 일정간경으로 나눠줌"
   ]
  },
  {
   "cell_type": "code",
   "execution_count": 15,
   "metadata": {},
   "outputs": [
    {
     "data": {
      "text/plain": [
       "array([[1, 2, 3],\n",
       "       [4, 5, 6]])"
      ]
     },
     "execution_count": 15,
     "metadata": {},
     "output_type": "execute_result"
    }
   ],
   "source": [
    "X = np.array([[1,2,3],[4,5,6]])\n",
    "X\n",
    "# 이거는 2차원이다. -> z축까지 생기면 3차원 \n",
    "# 3차원 표기도 가능하다.\n",
    "# []가 두개가 나온걸 보고 2차원이라는 것을 알면 된다. // []가 3개면 3차원이된다."
   ]
  },
  {
   "cell_type": "code",
   "execution_count": 16,
   "metadata": {},
   "outputs": [
    {
     "data": {
      "text/plain": [
       "array([[[ 1,  2,  3],\n",
       "        [ 4,  5,  6]],\n",
       "\n",
       "       [[ 7,  8,  9],\n",
       "        [10, 11, 12]]])"
      ]
     },
     "execution_count": 16,
     "metadata": {},
     "output_type": "execute_result"
    }
   ],
   "source": [
    "X = np.array([[[1,2,3],[4,5,6]],[[7,8,9],[10,11,12]]])\n",
    "X"
   ]
  },
  {
   "cell_type": "code",
   "execution_count": 17,
   "metadata": {},
   "outputs": [
    {
     "data": {
      "text/plain": [
       "(2, 2, 3)"
      ]
     },
     "execution_count": 17,
     "metadata": {},
     "output_type": "execute_result"
    }
   ],
   "source": [
    "X.shape\n",
    "# 구체적인 모형을 알려줌 \n",
    "# 2 -> 첫 괄호 2개 / 2 -> 두번째 괄호 두개 / 3 -> 마지막 괄호안에 있는 숫자 3개 "
   ]
  },
  {
   "cell_type": "code",
   "execution_count": 18,
   "metadata": {},
   "outputs": [
    {
     "data": {
      "text/plain": [
       "3"
      ]
     },
     "execution_count": 18,
     "metadata": {},
     "output_type": "execute_result"
    }
   ],
   "source": [
    "X.ndim\n",
    "# ndim은 몇 차원인지 알려줌"
   ]
  },
  {
   "cell_type": "code",
   "execution_count": 19,
   "metadata": {},
   "outputs": [
    {
     "data": {
      "text/plain": [
       "dtype('int32')"
      ]
     },
     "execution_count": 19,
     "metadata": {},
     "output_type": "execute_result"
    }
   ],
   "source": [
    "X.dtype\n",
    "# int는 정수형 / 32bit을 썼음"
   ]
  },
  {
   "cell_type": "code",
   "execution_count": 20,
   "metadata": {},
   "outputs": [
    {
     "data": {
      "text/plain": [
       "array([[[ 1.,  2.,  3.],\n",
       "        [ 4.,  5.,  6.]],\n",
       "\n",
       "       [[ 7.,  8.,  9.],\n",
       "        [10., 11., 12.]]])"
      ]
     },
     "execution_count": 20,
     "metadata": {},
     "output_type": "execute_result"
    }
   ],
   "source": [
    "X.astype(np.float64)\n",
    "# 타입을 바꿔주는 함수 / .을 포함(실수형)"
   ]
  },
  {
   "cell_type": "code",
   "execution_count": 21,
   "metadata": {},
   "outputs": [
    {
     "data": {
      "text/plain": [
       "array([[[0, 0, 0],\n",
       "        [0, 0, 0]],\n",
       "\n",
       "       [[0, 0, 0],\n",
       "        [0, 0, 0]]])"
      ]
     },
     "execution_count": 21,
     "metadata": {},
     "output_type": "execute_result"
    }
   ],
   "source": [
    "np.zeros_like(X)\n",
    "# 생긴건 똑같은데 원소를 전부 0으로 바꿔줌 "
   ]
  },
  {
   "cell_type": "code",
   "execution_count": 22,
   "metadata": {},
   "outputs": [
    {
     "data": {
      "text/plain": [
       "array([[[0, 0, 0],\n",
       "        [0, 0, 0]],\n",
       "\n",
       "       [[0, 0, 0],\n",
       "        [0, 0, 0]]])"
      ]
     },
     "execution_count": 22,
     "metadata": {},
     "output_type": "execute_result"
    }
   ],
   "source": [
    "X*0\n",
    "# *0해도 zeros_like이랑 같은 결과 값이 나온다."
   ]
  },
  {
   "cell_type": "markdown",
   "metadata": {},
   "source": [
    "numpy 속에 random이라는 subpackage가 있다 -> 여기서 또 nomal의 함수 "
   ]
  },
  {
   "cell_type": "code",
   "execution_count": 23,
   "metadata": {},
   "outputs": [
    {
     "name": "stdout",
     "output_type": "stream",
     "text": [
      "[-0.94496118  2.55963201  0.49692335  0.46497263 -0.85106326 -0.71781965\n",
      "  1.10657413  1.13889161 -0.2732167  -0.4088047  -0.08104693 -0.76166336\n",
      " -0.29390324  2.28773958  0.66801331 -0.65973656 -0.52892483 -1.4862816\n",
      "  1.25739561 -0.87436698  0.58075567 -2.01522536 -0.12929361  0.64348263\n",
      "  0.84776707 -0.95846533  0.67518267  0.45094951  1.231219    1.28808883\n",
      "  0.5538443   0.3094557   0.03862005  0.78847004 -0.51273342  0.82632316\n",
      "  0.48293305 -2.16654423 -1.87344842  0.81479514 -0.64930794  0.6290651\n",
      " -1.42266828 -0.9747192   0.7568193   0.31518954  0.34597555 -0.3261969\n",
      " -0.2310877   0.76512863 -0.07966849  0.92506639 -1.24525413 -1.89965435\n",
      "  1.34055087 -0.58137247 -0.28264102  0.51844184 -0.61236895 -1.46643407\n",
      "  0.4602326  -1.14502046 -0.59656409 -0.30041178 -0.18870193 -0.10626585\n",
      "  1.49143027 -1.3611332   0.26159812 -0.38487335  0.88333201  0.54784781\n",
      "  0.41546136  1.84910334  1.34611318 -1.76917398 -0.63549911  0.46386148\n",
      "  0.45050525 -0.99258117 -0.43328614 -1.94037351 -0.01363012  0.00332412\n",
      "  0.62955066 -1.56208236  1.09871323 -0.14136417  1.03716315  0.35667241\n",
      " -1.95813421  0.62375549  1.03990981  0.49781881  0.19024858 -1.20675474\n",
      "  0.79024894  1.09858793  1.22855827  0.68568996]\n"
     ]
    }
   ],
   "source": [
    "data = np.random.normal(0,1, 100)\n",
    "print(data)\n",
    "# normal distribution을 만들어 주는 함수 -> 정규분포 -> 평균과 표준편차를 알아야 함\n",
    "# 평균이 0 표준편차가 1인 정규분포에서 sample을 100개 추출해라."
   ]
  },
  {
   "cell_type": "code",
   "execution_count": 24,
   "metadata": {},
   "outputs": [
    {
     "data": {
      "text/plain": [
       "1"
      ]
     },
     "execution_count": 24,
     "metadata": {},
     "output_type": "execute_result"
    }
   ],
   "source": [
    "data.ndim\n",
    "# []가 하나밖에 없기 때문에 1차원 "
   ]
  },
  {
   "cell_type": "markdown",
   "metadata": {},
   "source": [
    "100개의 데이터가 정규분포를 보이는지를 알아본다.\n",
    "plt = pyplot 이 것도 라이버리 안에 있는 함수"
   ]
  },
  {
   "cell_type": "code",
   "execution_count": 25,
   "metadata": {},
   "outputs": [
    {
     "name": "stdout",
     "output_type": "stream",
     "text": [
      "[-0.47967297  1.29539852 -0.16677877  0.96381793  0.07147643  1.38853742\n",
      " -0.87660689 -1.96963191 -2.63480467  0.07004305 -0.52004923 -0.56658427\n",
      "  0.37542586  0.40763077  0.05214831  1.25959941 -1.69658058 -1.43714091\n",
      " -0.71461225 -1.15362209 -0.50881051 -0.40237957  0.79534783  0.03056454\n",
      "  0.31315251 -1.51018348 -2.07234935 -1.51696174  2.24343207 -0.78625118\n",
      " -0.00281672  0.68282228  2.04959935 -1.84901161 -0.67436834  0.01275605\n",
      "  0.85878455  0.25936681 -0.6374124  -0.00541861  0.62495584 -1.82426764\n",
      "  1.66756086 -0.01855631 -0.12234087 -0.70493683 -0.19849687  1.13347565\n",
      " -1.27797367 -0.78775307 -0.60954556 -0.11848917  0.4348414  -0.68653513\n",
      "  0.22762782  0.36784016 -0.98971151  0.39964834 -0.88746042  0.61788788\n",
      "  0.68771896  1.45121703 -1.00125794 -0.42931113 -1.3807123  -0.32150367\n",
      " -1.66436213  0.71589215  0.88231986  1.22306499  1.47626203 -0.0672976\n",
      " -0.81202873  1.4914886  -0.35299166  1.86044665 -0.03883582  0.24045661\n",
      "  0.57839889  1.92103309  1.47504576  1.84812371 -0.14492959  1.12969498\n",
      "  1.79438551 -0.37189502 -0.45168034 -0.96226527 -1.40004967 -0.03651592\n",
      " -1.99456908  0.22775844  0.5020047  -0.61668619 -0.49948171 -1.49470803\n",
      " -0.88041887 -1.5060057   0.81800408  0.60076432]\n"
     ]
    },
    {
     "data": {
      "image/png": "[encoded data removed]",
      "text/plain": [
       "<Figure size 432x288 with 1 Axes>"
      ]
     },
     "metadata": {
      "needs_background": "light"
     },
     "output_type": "display_data"
    }
   ],
   "source": [
    "data = np.random.normal(0,1, 100)\n",
    "print(data)\n",
    "plt.hist(data, bins=10)\n",
    "plt.show()\n",
    "# hist는 히스토그램을 뜻한다. \n",
    "# 여기서는 0기준으로 표준편차를 1로 해서 (bins는 바구니를 10개 만들어 줌 -> x축이 된다)\n",
    "# 하나의 bins에 들어가는 값이 몇개인가를 알려주는 것이 y축 \n",
    "# 여기의 값을 전부 합하면 100개 why? 100개의 값이 있는 것으로 설정했기 때문"
   ]
  },
  {
   "cell_type": "markdown",
   "metadata": {},
   "source": [
    "# 2. Manipulation"
   ]
  },
  {
   "cell_type": "code",
   "execution_count": 26,
   "metadata": {},
   "outputs": [
    {
     "data": {
      "text/plain": [
       "array([[[1., 1., 1., 1.],\n",
       "        [1., 1., 1., 1.],\n",
       "        [1., 1., 1., 1.]],\n",
       "\n",
       "       [[1., 1., 1., 1.],\n",
       "        [1., 1., 1., 1.],\n",
       "        [1., 1., 1., 1.]]])"
      ]
     },
     "execution_count": 26,
     "metadata": {},
     "output_type": "execute_result"
    }
   ],
   "source": [
    "X = np.ones([2, 3, 4])\n",
    "X"
   ]
  },
  {
   "cell_type": "code",
   "execution_count": 27,
   "metadata": {},
   "outputs": [
    {
     "data": {
      "text/plain": [
       "array([[[1., 1., 1., 1.],\n",
       "        [1., 1., 1., 1.],\n",
       "        [1., 1., 1., 1.]],\n",
       "\n",
       "       [[1., 1., 1., 1.],\n",
       "        [1., 1., 1., 1.],\n",
       "        [1., 1., 1., 1.]]])"
      ]
     },
     "execution_count": 27,
     "metadata": {},
     "output_type": "execute_result"
    }
   ],
   "source": [
    "x = np.zeros([2,3,4])\n",
    "X"
   ]
  },
  {
   "cell_type": "code",
   "execution_count": 28,
   "metadata": {},
   "outputs": [
    {
     "data": {
      "text/plain": [
       "array([[[0., 0., 0., 0.],\n",
       "        [0., 0., 0., 0.],\n",
       "        [0., 0., 0., 0.]],\n",
       "\n",
       "       [[0., 0., 0., 0.],\n",
       "        [0., 0., 0., 0.],\n",
       "        [0., 0., 0., 0.]]])"
      ]
     },
     "execution_count": 28,
     "metadata": {},
     "output_type": "execute_result"
    }
   ],
   "source": [
    "X * 0"
   ]
  },
  {
   "cell_type": "code",
   "execution_count": 29,
   "metadata": {},
   "outputs": [
    {
     "data": {
      "text/plain": [
       "array([[[1., 1.],\n",
       "        [1., 1.],\n",
       "        [1., 1.]],\n",
       "\n",
       "       [[1., 1.],\n",
       "        [1., 1.],\n",
       "        [1., 1.]],\n",
       "\n",
       "       [[1., 1.],\n",
       "        [1., 1.],\n",
       "        [1., 1.]],\n",
       "\n",
       "       [[1., 1.],\n",
       "        [1., 1.],\n",
       "        [1., 1.]]])"
      ]
     },
     "execution_count": 29,
     "metadata": {},
     "output_type": "execute_result"
    }
   ],
   "source": [
    "Y = X.reshape(4,3,-1)\n",
    "Y\n",
    "# 행렬의 형태를 바꿔준다 / 원소는 바꾸지 않는다. / 바꿀 수 없는 차원으로는 갈 수 없다.\n",
    "# 원래는 4를 적어야 하는데 알아서 하라고 할때 -1을 쓴다.-1은 어느 위치에 들어가도 상관없다(컴퓨터가 임의적으로 맞는 숫자를 집어 넣준다)\n",
    "# 3차원의 크기를 나타낼 때는 가장 바깥쪽 리스트의 길이부터 가장 안쪽 리스트 길이의 순서로 표시\n",
    "# 그리고 (x,y,z)안의 원소의 개수가 바로 벡터 형태의 1차원의 원소의 개수와 same / 따라서 reshape할때도 1차원/ 2차원/ 3차원에서 개수는 모두 같다."
   ]
  },
  {
   "cell_type": "code",
   "execution_count": 30,
   "metadata": {
    "scrolled": true
   },
   "outputs": [
    {
     "data": {
      "text/plain": [
       "True"
      ]
     },
     "execution_count": 30,
     "metadata": {},
     "output_type": "execute_result"
    }
   ],
   "source": [
    "np.allclose(X.reshape(4,3,2),Y)\n",
    "# allclose는 , 앞과 뒤가 똑같으면 true 다르면 false을 한다."
   ]
  },
  {
   "cell_type": "markdown",
   "metadata": {},
   "source": [
    "# 3. NumPy I/O"
   ]
  },
  {
   "cell_type": "code",
   "execution_count": 68,
   "metadata": {},
   "outputs": [],
   "source": [
    "a = np.random.randint(0, 10, [2, 3])\n",
    "b = np.random.random([2, 3])\n",
    "np.savez(\"C:/Users/공태영/Desktop/test\", a, b)\n",
    "# randint 0부터 10에서 원소를 뽑아서 2*3행렬을 만드어 줘라\n",
    "# random한 2*3행렬을 만들어 줘라 \n",
    "# savez는 파일로 저장해주는 함수 "
   ]
  },
  {
   "cell_type": "code",
   "execution_count": 69,
   "metadata": {},
   "outputs": [
    {
     "name": "stdout",
     "output_type": "stream",
     "text": [
      "[[0 5 8]\n",
      " [4 5 8]]\n"
     ]
    }
   ],
   "source": [
    "print(a)"
   ]
  },
  {
   "cell_type": "code",
   "execution_count": 70,
   "metadata": {},
   "outputs": [
    {
     "name": "stdout",
     "output_type": "stream",
     "text": [
      "[[0.94727525 0.28572401 0.83589151]\n",
      " [0.15924791 0.96048284 0.17604219]]\n"
     ]
    }
   ],
   "source": [
    "print(b)"
   ]
  },
  {
   "cell_type": "code",
   "execution_count": 71,
   "metadata": {},
   "outputs": [
    {
     "name": "stderr",
     "output_type": "stream",
     "text": [
      "'Is'은(는) 내부 또는 외부 명령, 실행할 수 있는 프로그램, 또는\n",
      "배치 파일이 아닙니다.\n"
     ]
    }
   ],
   "source": [
    "!Is -al test*\n",
    "# 저장되어 있는지를 확인하는 명령어 "
   ]
  },
  {
   "cell_type": "code",
   "execution_count": 72,
   "metadata": {},
   "outputs": [
    {
     "name": "stdout",
     "output_type": "stream",
     "text": [
      "No variables match your requested type.\n"
     ]
    }
   ],
   "source": [
    "del a,b\n",
    "# 삭제해주는 함수 \n",
    "%who # 사용가능한 variable가 뭐가 있는지 알려줌 "
   ]
  },
  {
   "cell_type": "code",
   "execution_count": 73,
   "metadata": {},
   "outputs": [
    {
     "data": {
      "text/plain": [
       "['arr_0', 'arr_1']"
      ]
     },
     "execution_count": 73,
     "metadata": {},
     "output_type": "execute_result"
    }
   ],
   "source": [
    "npzfiles = np.load(\"test.npz\")\n",
    "npzfiles.files\n",
    "# 불러와주는 함수 "
   ]
  },
  {
   "cell_type": "code",
   "execution_count": 74,
   "metadata": {},
   "outputs": [
    {
     "data": {
      "text/plain": [
       "array([[4, 7, 3],\n",
       "       [1, 4, 6]])"
      ]
     },
     "execution_count": 74,
     "metadata": {},
     "output_type": "execute_result"
    }
   ],
   "source": [
    "npzfiles['arr_0']\n",
    "# 불러온 함수를 꺼내 줌 "
   ]
  },
  {
   "cell_type": "code",
   "execution_count": 97,
   "metadata": {
    "scrolled": false
   },
   "outputs": [
    {
     "data": {
      "text/plain": [
       "array([[ 3.3  ,  1.7  ],\n",
       "       [ 4.4  ,  2.76 ],\n",
       "       [ 5.5  ,  2.09 ],\n",
       "       [ 6.71 ,  3.19 ],\n",
       "       [ 6.93 ,  1.694],\n",
       "       [ 4.168,  1.573],\n",
       "       [ 9.779,  3.366],\n",
       "       [ 6.182,  2.596],\n",
       "       [ 7.59 ,  2.53 ],\n",
       "       [ 2.167,  1.221],\n",
       "       [ 7.042,  2.827],\n",
       "       [10.791,  3.465],\n",
       "       [ 5.313,  1.65 ],\n",
       "       [ 7.997,  2.904],\n",
       "       [ 5.654,  2.42 ],\n",
       "       [ 9.27 ,  2.94 ],\n",
       "       [ 3.1  ,  1.3  ]])"
      ]
     },
     "execution_count": 97,
     "metadata": {},
     "output_type": "execute_result"
    }
   ],
   "source": [
    "data1 = np.loadtxt(\"https://raw.githubusercontent.com/hsnam95/class2019Fall/master/regression.csv\", delimiter=\",\", skiprows=1)\n",
    "data1\n",
    "# CSV 파일 포맷은 데이터 값이 쉽표(comma)로 구분되는 텍스트 파일 / X렬 Y렬로 이루어진 데이터 / 엑셀에서도 여는 것이 가능\n",
    "# np.loadtxt : regression.csv라는 파일을 불러와서 행렬을 만들어 준다. \n",
    "# delimier는 구분자 / skiprow = 1 은 1행을 건너뛰는 것 -> X,Y행을 건너 뛰었다.(X,Y는 데이터가 아니기 때문)"
   ]
  },
  {
   "cell_type": "code",
   "execution_count": 98,
   "metadata": {},
   "outputs": [
    {
     "data": {
      "text/plain": [
       "array([( 3.3  , 1.7  ), ( 4.4  , 2.76 ), ( 5.5  , 2.09 ), ( 6.71 , 3.19 ),\n",
       "       ( 6.93 , 1.694), ( 4.168, 1.573), ( 9.779, 3.366), ( 6.182, 2.596),\n",
       "       ( 7.59 , 2.53 ), ( 2.167, 1.221), ( 7.042, 2.827), (10.791, 3.465),\n",
       "       ( 5.313, 1.65 ), ( 7.997, 2.904), ( 5.654, 2.42 ), ( 9.27 , 2.94 ),\n",
       "       ( 3.1  , 1.3  )], dtype=[('X', '<f4'), ('Y', '<f4')])"
      ]
     },
     "execution_count": 98,
     "metadata": {},
     "output_type": "execute_result"
    }
   ],
   "source": [
    "data2 = np.loadtxt(\"https://raw.githubusercontent.com/hsnam95/class2019Fall/master/regression.csv\", delimiter=\",\", skiprows=1,  dtype={'names':(\"X\", \"Y\"), 'formats':('f', 'f')})\n",
    "data2\n",
    "# dtype는 입력 포맷을 정해준다. 첫번째는 X값을 두번째는 Y값을 /  그리고 형식 둘다 은 float(실수형)형식으로<i로 하면 정수형이 된다>"
   ]
  },
  {
   "cell_type": "code",
   "execution_count": 99,
   "metadata": {
    "scrolled": true
   },
   "outputs": [
    {
     "data": {
      "text/plain": [
       "[\"'IS'은(는) 내부 또는 외부 명령, 실행할 수 있는 프로그램, 또는\", '배치 파일이 아닙니다.']"
      ]
     },
     "execution_count": 99,
     "metadata": {},
     "output_type": "execute_result"
    }
   ],
   "source": [
    "np.savetxt(\"C:/Users/공태영/Desktop/regression_saved.csv\", data2, delimiter=\",\")\n",
    "files = !IS -I -S| regression_saved.csv\n",
    "files\n",
    "# 데이터를 저장하는 np안의 함수\n",
    "# 저장되어 있는지를 확인하는 명령어 -> 우리는 탐색기에서 확인 "
   ]
  },
  {
   "cell_type": "markdown",
   "metadata": {},
   "source": [
    "# 4. Inspecting"
   ]
  },
  {
   "cell_type": "code",
   "execution_count": 60,
   "metadata": {},
   "outputs": [],
   "source": [
    "arr = np.random.random([5,2,3])"
   ]
  },
  {
   "cell_type": "code",
   "execution_count": 76,
   "metadata": {},
   "outputs": [
    {
     "name": "stdout",
     "output_type": "stream",
     "text": [
      "<class 'numpy.ndarray'>\n",
      "5\n",
      "(5, 2, 3)\n",
      "3\n",
      "30\n",
      "float64\n"
     ]
    }
   ],
   "source": [
    "print(type(arr)) # 종류\n",
    "print(len(arr)) # 길이\n",
    "print(arr.shape)# 배열의 크기\n",
    "print(arr.ndim) # 배열의 차원\n",
    "print(arr.size) # 배열 원소의 개수\n",
    "print(arr.dtype) # 자료형"
   ]
  },
  {
   "cell_type": "code",
   "execution_count": 77,
   "metadata": {},
   "outputs": [],
   "source": [
    "a = np.arange(1,5)\n",
    "b = np.arange(9,5,-1)"
   ]
  },
  {
   "cell_type": "code",
   "execution_count": 84,
   "metadata": {},
   "outputs": [
    {
     "data": {
      "text/plain": [
       "array([1, 2, 3, 4])"
      ]
     },
     "execution_count": 84,
     "metadata": {},
     "output_type": "execute_result"
    }
   ],
   "source": [
    "a"
   ]
  },
  {
   "cell_type": "code",
   "execution_count": 82,
   "metadata": {},
   "outputs": [
    {
     "data": {
      "text/plain": [
       "array([9, 8, 7, 6])"
      ]
     },
     "execution_count": 82,
     "metadata": {},
     "output_type": "execute_result"
    }
   ],
   "source": [
    "b"
   ]
  },
  {
   "cell_type": "code",
   "execution_count": 80,
   "metadata": {},
   "outputs": [
    {
     "name": "stdout",
     "output_type": "stream",
     "text": [
      "[-8 -6 -4 -2]\n"
     ]
    }
   ],
   "source": [
    "print(a-b)"
   ]
  },
  {
   "cell_type": "code",
   "execution_count": 79,
   "metadata": {
    "scrolled": true
   },
   "outputs": [
    {
     "name": "stdout",
     "output_type": "stream",
     "text": [
      "[10 10 10 10]\n"
     ]
    }
   ],
   "source": [
    "print(a+b)"
   ]
  },
  {
   "cell_type": "code",
   "execution_count": 121,
   "metadata": {},
   "outputs": [
    {
     "name": "stdout",
     "output_type": "stream",
     "text": [
      "[[  0   2   6  12  20  30]\n",
      " [  0   8  18  30  44  60]\n",
      " [  0  14  30  48  68  90]\n",
      " [  0  20  42  66  92 120]]\n"
     ]
    }
   ],
   "source": [
    "print(a*b)"
   ]
  },
  {
   "cell_type": "markdown",
   "metadata": {},
   "source": [
    "# 5.2 Comparison"
   ]
  },
  {
   "cell_type": "code",
   "execution_count": 127,
   "metadata": {
    "scrolled": false
   },
   "outputs": [
    {
     "name": "stdout",
     "output_type": "stream",
     "text": [
      "[[1 2 3]\n",
      " [4 5 6]\n",
      " [7 8 9]]\n",
      "[[[10  9  8]\n",
      "  [ 7  6  5]\n",
      "  [ 4  3  2]]]\n"
     ]
    }
   ],
   "source": [
    "a = np.arange(1,10).reshape(3,3)\n",
    "b = np.arange(10,1,-1).reshape(-1,3,3)\n",
    "print(a)\n",
    "print(b)"
   ]
  },
  {
   "cell_type": "code",
   "execution_count": 128,
   "metadata": {},
   "outputs": [
    {
     "data": {
      "text/plain": [
       "array([[[False, False, False],\n",
       "        [False, False, False],\n",
       "        [False, False, False]]])"
      ]
     },
     "execution_count": 128,
     "metadata": {},
     "output_type": "execute_result"
    }
   ],
   "source": [
    "a == b"
   ]
  },
  {
   "cell_type": "code",
   "execution_count": 129,
   "metadata": {},
   "outputs": [
    {
     "data": {
      "text/plain": [
       "array([[[False, False, False],\n",
       "        [False, False,  True],\n",
       "        [ True,  True,  True]]])"
      ]
     },
     "execution_count": 129,
     "metadata": {},
     "output_type": "execute_result"
    }
   ],
   "source": [
    "a > b"
   ]
  },
  {
   "cell_type": "code",
   "execution_count": 130,
   "metadata": {
    "scrolled": false
   },
   "outputs": [
    {
     "name": "stdout",
     "output_type": "stream",
     "text": [
      "[[1 2 3]\n",
      " [4 5 6]\n",
      " [7 8 9]]\n"
     ]
    }
   ],
   "source": [
    "print(a)\n",
    "# 행이 1차원 열이 2차원 "
   ]
  },
  {
   "cell_type": "markdown",
   "metadata": {},
   "source": [
    "# 5.3 Aggregate (sum, min, max, mean, median, std)"
   ]
  },
  {
   "cell_type": "code",
   "execution_count": 131,
   "metadata": {},
   "outputs": [
    {
     "data": {
      "text/plain": [
       "(45, 45)"
      ]
     },
     "execution_count": 131,
     "metadata": {},
     "output_type": "execute_result"
    }
   ],
   "source": [
    "a.sum(), np.sum(a)\n",
    "# a가 이미 numpy로 만들어낸 object이기에 np.sum(a)라고 쓸 수 있다."
   ]
  },
  {
   "cell_type": "code",
   "execution_count": 132,
   "metadata": {},
   "outputs": [
    {
     "data": {
      "text/plain": [
       "(array([12, 15, 18]), array([12, 15, 18]))"
      ]
     },
     "execution_count": 132,
     "metadata": {},
     "output_type": "execute_result"
    }
   ],
   "source": [
    "a.sum(axis=0), np.sum(a, axis=0)\n",
    "# 열을 합쳐서 1차원으로 만들어 준다 "
   ]
  },
  {
   "cell_type": "code",
   "execution_count": 133,
   "metadata": {},
   "outputs": [
    {
     "data": {
      "text/plain": [
       "(array([ 6, 15, 24]), array([ 6, 15, 24]))"
      ]
     },
     "execution_count": 133,
     "metadata": {},
     "output_type": "execute_result"
    }
   ],
   "source": [
    "a.sum(axis=1), np.sum(a, axis=1)\n",
    "# 행을 합쳐서 1차원으로 만들어 준다."
   ]
  },
  {
   "cell_type": "markdown",
   "metadata": {},
   "source": [
    "# Broadcasting"
   ]
  },
  {
   "cell_type": "code",
   "execution_count": 136,
   "metadata": {},
   "outputs": [
    {
     "data": {
      "text/plain": [
       "array([[ 1,  2,  3,  4,  5,  6],\n",
       "       [ 7,  8,  9, 10, 11, 12],\n",
       "       [13, 14, 15, 16, 17, 18],\n",
       "       [19, 20, 21, 22, 23, 24]])"
      ]
     },
     "execution_count": 136,
     "metadata": {},
     "output_type": "execute_result"
    }
   ],
   "source": [
    "a = np.arange(1,25).reshape(4,6)\n",
    "a\n",
    "# arange는 1차원 -> reshape으로 2차원으로 바꿔줌 "
   ]
  },
  {
   "cell_type": "code",
   "execution_count": 137,
   "metadata": {},
   "outputs": [
    {
     "data": {
      "text/plain": [
       "array([[101, 102, 103, 104, 105, 106],\n",
       "       [107, 108, 109, 110, 111, 112],\n",
       "       [113, 114, 115, 116, 117, 118],\n",
       "       [119, 120, 121, 122, 123, 124]])"
      ]
     },
     "execution_count": 137,
     "metadata": {},
     "output_type": "execute_result"
    }
   ],
   "source": [
    "a + 100"
   ]
  },
  {
   "cell_type": "code",
   "execution_count": 138,
   "metadata": {},
   "outputs": [
    {
     "data": {
      "text/plain": [
       "array([0, 1, 2, 3, 4, 5])"
      ]
     },
     "execution_count": 138,
     "metadata": {},
     "output_type": "execute_result"
    }
   ],
   "source": [
    "b = np.arange(6)\n",
    "b"
   ]
  },
  {
   "cell_type": "code",
   "execution_count": 139,
   "metadata": {},
   "outputs": [
    {
     "data": {
      "text/plain": [
       "array([[ 1,  3,  5,  7,  9, 11],\n",
       "       [ 7,  9, 11, 13, 15, 17],\n",
       "       [13, 15, 17, 19, 21, 23],\n",
       "       [19, 21, 23, 25, 27, 29]])"
      ]
     },
     "execution_count": 139,
     "metadata": {},
     "output_type": "execute_result"
    }
   ],
   "source": [
    "a + b "
   ]
  },
  {
   "cell_type": "markdown",
   "metadata": {},
   "source": [
    "sampling rate을 만으로 한다고 규정하면 1초동안 10000개의 숫자를 우리가 담을 것이다. -> 44100hz등의 요소 -> 1초를 표현하는데 숫자의 \n",
    "개수가 44100"
   ]
  },
  {
   "cell_type": "code",
   "execution_count": 140,
   "metadata": {},
   "outputs": [
    {
     "data": {
      "text/plain": [
       "array([[0],\n",
       "       [1],\n",
       "       [2],\n",
       "       [3]])"
      ]
     },
     "execution_count": 140,
     "metadata": {},
     "output_type": "execute_result"
    }
   ],
   "source": [
    "c = np.arange(4).reshape([4,1])\n",
    "c\n",
    "# 4행 1열의 형태를 가지고 있음 "
   ]
  },
  {
   "cell_type": "code",
   "execution_count": 141,
   "metadata": {},
   "outputs": [
    {
     "data": {
      "text/plain": [
       "array([[ 1,  2,  3,  4,  5,  6],\n",
       "       [ 8,  9, 10, 11, 12, 13],\n",
       "       [15, 16, 17, 18, 19, 20],\n",
       "       [22, 23, 24, 25, 26, 27]])"
      ]
     },
     "execution_count": 141,
     "metadata": {},
     "output_type": "execute_result"
    }
   ],
   "source": [
    "a + c\n",
    "# c의 각 행에 있는 숫자들을 더해준다. "
   ]
  },
  {
   "cell_type": "markdown",
   "metadata": {},
   "source": [
    "# 11/05 and 11/07 수업"
   ]
  },
  {
   "cell_type": "markdown",
   "metadata": {},
   "source": [
    "#list상에서는 계산이 안되기 때문에 numpy에 담아서 계산을 함 \n",
    "#array -> arange(다 차원의 array)\n",
    "#arange -> array의 리스트안에 있는 원소의 개수와 똑같아야한다(곱한것이)"
   ]
  },
  {
   "cell_type": "markdown",
   "metadata": {},
   "source": [
    "puretone\n",
    "sinusoidal -> 코사인이나 사인처럼 생긴 것 ; 함수\n",
    "phasor -> 코사인 / 사인 등을 그래프로 표현한 것 -> 원의 반복 \n",
    "x축이 rad / y축은 -1≤≤1인 실수값\n",
    "사인에서는 2π일때 1 / 사인 그래프에서는 2π일때 0\n",
    "sin(입력값) \n",
    "이 입력값에는 degree말고 radian값이 들어간다 \n",
    "1라디안은 원의 반지름과 길이가 같은 호가 대하는 중심각의 크기로 정의된다.\n",
    "degree는 우리가 일반적으로 사용하는 것처럼 원을 0~360도로 표기하는 방법\n",
    "radian은 부채꼴의 호의 길이와 반지름의 길이가 같게 되는 각도 / 이를 1rad이라고 함 / 1rad = θ / 따라서 θ값이 1이면 이는 1rad과 같다는 말이다. \n",
    "1rad = 180/π= 57.2957...°\n",
    "ex) 2πrad = 360도 -> 2π마다 반복한다. \n",
    "문제 : 0 ~ 100π까지는 반복이 총 50번\n",
    "sin , cos 그래프에서 x축은 rad을 단위로 하고 y축은 실수값을 뜻한다. \n",
    "cf) 허수가 정의되기 전까지만 해도, 수의 개념은 1차원적이었다. 즉, 수의 개념은 오직 수직선으로만 표현되었다. 그러나 허수가 정의된 후, 수의 개념은 2차원으로 확장되었다. 즉, 수의 개념은 복소평면으로 표현된 것이다. 수의 틀을 직선에서 평면으로 확장시킨 것은 모두 허수의 덕택임을 알 수 있는 것이다.\n",
    "또한, 허수로 인해 수의 틀이 확장되었다는 것은, 언젠가는 또 새로운 어떤 수가 발견되어 수의 틀이 입체로 확장될 수 있음을 시사한다.\n",
    "cf) 오일러 공식 \n",
    "cos(θ)+sin(θ)i = e^θi (θ = radian값 // i=허수 -> i^2 = -1)\n",
    "e는 상수값/자연로그에서의 지수  = 2.7.... // i도 정해진 허수 / \n",
    "따라서 θ에따라 달라짐(θ에대한 함수임)\n",
    "-> f(θ)= e^θi 이는 숫자값이 나온다.\n",
    "복소수 = a+bi -> 생각할 수 있는 모든 수를 표현 가능 \n",
    "따라서, 'cos(θ) + sin(θ)i'도 모든 수를 표현 가능\n",
    "e^θi는 새로운 phasor을 보여준다. \n",
    "θ = 0 // 1/2π // π // 3/2π // 2π\n",
    "if θ = 0 // f(θ)=1 \n",
    "   θ = 1/2π // f(θ) = i\n",
    "   θ = π // f(θ) = -1\n",
    "   θ = 3/2π // f(θ) = -i\n",
    "   θ = 2π // f(θ) = 1\n",
    "여기서 문제는 : sin, cos -> 원래 실수 but, 오일러 함수에는 허수가 나온다 -> 이를 어떻게 표현할 것인가?\n",
    "-> 복소수를 어떻게 plot하는 방법 \n",
    "복소평면 -> x축은 a(실수축) / y축은 b(허수축) \n",
    "-> 원(r=1)이 만들어 진다. 그리고 θ의 값을 가진 부채꼴이 존재 / 그때의 x값 y값으로 a+bi를 표현가능  \n",
    "e^θi를 구할 수 있음 => (a+bi의 형태로)\n",
    "-> 원안에서 계속 값이 바뀜 => 4π을 한 주기로 함 \n",
    "실수부 a (코사인) 허수 b(사인)\n",
    "projection -> 코사인은 x축상에서 1부터 시작해서 -1에서 1까지(cos과 same) / 사인은 y축 상에서 0부터 시작해서 -1 부터 1까지 를 반복(sin과 same)\n",
    "이는 결국 왜 실수부를 cos으로 허수를 sin으로 했는지를 알 수 있음\n",
    "이렇게 때문에 사인 그래프와 코사인 그래프는 원이 자나가면서 만든 잔상과 같다고 할 수 있음 \n",
    "여기서 input이 다 공통적으로 radian 각도값이 들어감"
   ]
  },
  {
   "cell_type": "markdown",
   "metadata": {},
   "source": [
    "주파수는 1초에 몇번 왔다 갔다 하는가를 나타냄 \n",
    "-> phasor에 그 개념이 들어갈까? -> 시간의 개념이 들어갈까? -> sin은 x축이 각도값인데 시간의 개념이 들어있나? -> 시간의 개념이 안 들어가 있다 \n",
    "따라서 시간의 개념을 그 속에 포함시켜야 소리를 표현할 수 있음 \n",
    "소리라는 실체는 그 속에 시간의 개념이 들어있어야함 "
   ]
  },
  {
   "cell_type": "markdown",
   "metadata": {},
   "source": [
    "# phasor "
   ]
  },
  {
   "cell_type": "code",
   "execution_count": 2,
   "metadata": {},
   "outputs": [],
   "source": [
    "from matplotlib import pyplot as plt #matplotlib에서 pyplot // from과 똑같은 역할 : import matplotlib.pyplot as plt  \n",
    "from mpl_toolkits.mplot3d import Axes3D\n",
    "from mpl_toolkits.axes_grid1 import make_axes_locatable\n",
    "import IPython.display as ipd\n",
    "import numpy as np\n",
    "%matplotlib notebook\n",
    "from scipy.signal import lfilter"
   ]
  },
  {
   "cell_type": "code",
   "execution_count": 3,
   "metadata": {},
   "outputs": [],
   "source": [
    "# parameter setting ->  밑에만 고쳐주면 결과값이 달라지기 때문에 parameter라고 부른다. \n",
    "amp = 1 # range [0.0, 1.0]\n",
    "sr = 10000 # 얼마나 고 해상도 / 1초동안 어느정도의 정보를 담을 것이고 그것으로 표현할 것인가? \n",
    "dur = 0.5 # in seconds\n",
    "freq = 100.0 # sine frequency, Hz // 1초에 반복이 몇번 되는가? "
   ]
  },
  {
   "cell_type": "code",
   "execution_count": 4,
   "metadata": {},
   "outputs": [],
   "source": [
    "#t =  0.0001 0.0002 0.0003 .... 0.5000\n",
    "# t을 만들어주는 이유 : 오일러 공식 -> theta에 들어가는 것은 무조건 각도값만 들어가야 한다. \n",
    "# but, 시간이 없으면 소리의 실체값을 만들어 줄 수가 없음 따라서 시간이라는 개념을 먼저 만들어줘야 함 \n",
    "# sr와 관련 / 이것을 쉽게 만드는 방법은 무엇인가를 고민해야 한다. \n",
    "# 0.0001을 해줘야 한다 -> sr이 10000이기 때문\n",
    "# 0.5000까지인 이유는 dur = 0.5이기 때문 \n",
    "# time과 관련된 것은 dur 와 sr이다. 이 두가지만 있으면 시간이라는 개념을 만들어 낼 수 있다. "
   ]
  },
  {
   "cell_type": "code",
   "execution_count": 5,
   "metadata": {},
   "outputs": [
    {
     "data": {
      "text/plain": [
       "array([    1,     2,     3, ...,  9998,  9999, 10000])"
      ]
     },
     "execution_count": 5,
     "metadata": {},
     "output_type": "execute_result"
    }
   ],
   "source": [
    "t = np.arange(1, sr+1) # +1을 하는 이유는 sr만 하면 9999까지만 되기 떄문 / sr만큼의 time tik을 만들어 줌\n",
    "# 이건 그냥 숫자의 1차원 행렬의 나열이다.  \n",
    "t"
   ]
  },
  {
   "cell_type": "code",
   "execution_count": 6,
   "metadata": {},
   "outputs": [
    {
     "data": {
      "text/plain": [
       "array([1.000e-04, 2.000e-04, 3.000e-04, ..., 9.998e-01, 9.999e-01,\n",
       "       1.000e+00])"
      ]
     },
     "execution_count": 6,
     "metadata": {},
     "output_type": "execute_result"
    }
   ],
   "source": [
    "t = np.arange(1, sr+1)/sr #1/10000초 부터 1초까지 만들어져서 시간을 표현가능하게 함. 왜냐하면 구간을 만들어 주기 때문이다. 즉, 분수로 \n",
    "# 구분한 것이 시간이라는 개념으로 이어진다. \n",
    "# 구간이 곧 시간이된다.\n",
    "t\n",
    "# 1*1/10000 // 2*1/10000 .... 이어 진다. "
   ]
  },
  {
   "cell_type": "code",
   "execution_count": 7,
   "metadata": {},
   "outputs": [
    {
     "data": {
      "text/plain": [
       "array([1.000e-04, 2.000e-04, 3.000e-04, ..., 4.998e-01, 4.999e-01,\n",
       "       5.000e-01])"
      ]
     },
     "execution_count": 7,
     "metadata": {},
     "output_type": "execute_result"
    }
   ],
   "source": [
    "# generate time \n",
    "t = np.arange(1, sr*dur+1)/sr\n",
    "t\n",
    "# 시간의 개념을 주기 위해서는 dur까지 포함 (dr=0.5이기 때문) / 1/10000<sampling rate만큼의 timetik을 만들어줌>\n",
    "# 로 나뉜 구간을 5000까지만 해주고 이를 나열함 \n",
    "# 이제 time을 기반으로 한 theta를 만들어 줄 수가 있음 "
   ]
  },
  {
   "cell_type": "code",
   "execution_count": 8,
   "metadata": {},
   "outputs": [
    {
     "data": {
      "text/plain": [
       "array([6.28318531e-02, 1.25663706e-01, 1.88495559e-01, ...,\n",
       "       3.14033602e+02, 3.14096434e+02, 3.14159265e+02])"
      ]
     },
     "execution_count": 8,
     "metadata": {},
     "output_type": "execute_result"
    }
   ],
   "source": [
    "# time이 있다고 다 되는 것은 아니다. \n",
    "# 각도 값을 time과 연동 시켜서 phasor로 바꿔줘야 한다. \n",
    "theta = t*2*np.pi*freq\n",
    "# 즉 theta값은 \n",
    "# t -> 시간 \n",
    "# 2*np.pi = 2파이rad<360도> -> 하나의 주기다.<어떠한 그래프를 만드는 것이 아니라 x축의 값이다.> / np.pi = 1파이rad이다.<90도> \n",
    "# freq = 몇 바퀴를 만드느냐? -> 주기를 설정 -> frequency는 몇 바퀴를 도드냐를 정의해 준 것 \n",
    "# 2*np.pi*freq 은 360도로 회전하는 것을 100번 반복하고 <사인그래프를 100번 > \n",
    "# 여기다가 *t를 해서 시간의 개념을 추가<구간을 나워주는 것>\n",
    "# 그것을 0.5초동안 (200파아 rad을 10000개의 구간으로 나눈 뒤 5000번째 구간까지를 표현)\n",
    "# time의 벡터의 사이즈와 theta의 벡터의 사이즈는 같다. // t는 arange이고 나머지는 곱하는 상수이기때문이다. \n",
    "# 즉, theta가 phase가 된다. -> 이는 phasor로 만들어 줄 수 있음 \n",
    "theta"
   ]
  },
  {
   "cell_type": "markdown",
   "metadata": {},
   "source": [
    "# 개념 설명 다시 "
   ]
  },
  {
   "cell_type": "code",
   "execution_count": 9,
   "metadata": {},
   "outputs": [
    {
     "data": {
      "text/plain": [
       "array([0. , 0.1, 0.2, 0.3, 0.4, 0.5, 0.6, 0.7, 0.8, 0.9, 1. , 1.1, 1.2,\n",
       "       1.3, 1.4, 1.5, 1.6, 1.7, 1.8, 1.9, 2. , 2.1, 2.2, 2.3, 2.4, 2.5,\n",
       "       2.6, 2.7, 2.8, 2.9, 3. , 3.1, 3.2, 3.3, 3.4, 3.5, 3.6, 3.7, 3.8,\n",
       "       3.9, 4. , 4.1, 4.2, 4.3, 4.4, 4.5, 4.6, 4.7, 4.8, 4.9, 5. , 5.1,\n",
       "       5.2, 5.3, 5.4, 5.5, 5.6, 5.7, 5.8, 5.9, 6. , 6.1, 6.2])"
      ]
     },
     "execution_count": 9,
     "metadata": {},
     "output_type": "execute_result"
    }
   ],
   "source": [
    "theta = np.arange(0, 2*np.pi,0.1) \n",
    "# 0부터 2파이 까지 만들다. 하지만 이렇게 하면 1씩 뛰어진다. 6으로 끝나는 이유는 파이*2 = 6.28.... 이기 때문 \n",
    "theta"
   ]
  },
  {
   "cell_type": "code",
   "execution_count": 10,
   "metadata": {},
   "outputs": [
    {
     "data": {
      "text/plain": [
       "array([ 0.        ,  0.09983342,  0.19866933,  0.29552021,  0.38941834,\n",
       "        0.47942554,  0.56464247,  0.64421769,  0.71735609,  0.78332691,\n",
       "        0.84147098,  0.89120736,  0.93203909,  0.96355819,  0.98544973,\n",
       "        0.99749499,  0.9995736 ,  0.99166481,  0.97384763,  0.94630009,\n",
       "        0.90929743,  0.86320937,  0.8084964 ,  0.74570521,  0.67546318,\n",
       "        0.59847214,  0.51550137,  0.42737988,  0.33498815,  0.23924933,\n",
       "        0.14112001,  0.04158066, -0.05837414, -0.15774569, -0.2555411 ,\n",
       "       -0.35078323, -0.44252044, -0.52983614, -0.61185789, -0.68776616,\n",
       "       -0.7568025 , -0.81827711, -0.87157577, -0.91616594, -0.95160207,\n",
       "       -0.97753012, -0.993691  , -0.99992326, -0.99616461, -0.98245261,\n",
       "       -0.95892427, -0.92581468, -0.88345466, -0.83226744, -0.77276449,\n",
       "       -0.70554033, -0.63126664, -0.55068554, -0.46460218, -0.37387666,\n",
       "       -0.2794155 , -0.1821625 , -0.0830894 ])"
      ]
     },
     "execution_count": 10,
     "metadata": {},
     "output_type": "execute_result"
    }
   ],
   "source": [
    "s = np.sin(theta)\n",
    "s"
   ]
  },
  {
   "cell_type": "code",
   "execution_count": 11,
   "metadata": {},
   "outputs": [
    {
     "data": {
      "text/plain": [
       "[<matplotlib.lines.Line2D at 0x24eeef15630>]"
      ]
     },
     "execution_count": 11,
     "metadata": {},
     "output_type": "execute_result"
    },
    {
     "data": {
      "image/png": "[encoded data removed]",
      "text/plain": [
       "<Figure size 432x288 with 4 Axes>"
      ]
     },
     "metadata": {
      "needs_background": "light"
     },
     "output_type": "display_data"
    }
   ],
   "source": [
    "fig = plt.figure() # fig라는 function을 정의 \n",
    "# x축은 theta array의 값\n",
    "# s는 sin이라는 function에서 나온 결과값 -> y축 \n",
    "ax = fig.add_subplot(221) # 2*2로 화면을 분리<4개의 화면을 출력>를 하고 그 중 첫번쨰 것을 선택 \n",
    "ax.plot(theta, s, '.') \n",
    "ax = fig.add_subplot(222) # 2*2로 화면 분리 / 2번째 선택 \n",
    "ax.plot(theta, s, '.') \n",
    "ax = fig.add_subplot(223)\n",
    "ax.plot(theta, s, '.') \n",
    "ax = fig.add_subplot(224)\n",
    "ax.plot(theta, s, '.') \n",
    "# 이것의 문제는 연속성이 안보인다는 것이다 -> 연속성이 있게 해줄려면, 따라서 위에서 정해준 theta의 array을 더 촘촘하게 해줘야한다. \n",
    "# 그럴려면 위에서 array 뒤 ,0.1 을 해줘야한다. "
   ]
  },
  {
   "cell_type": "code",
   "execution_count": 12,
   "metadata": {
    "scrolled": true
   },
   "outputs": [
    {
     "data": {
      "text/plain": [
       "[<matplotlib.lines.Line2D at 0x24eeefcfc18>]"
      ]
     },
     "execution_count": 12,
     "metadata": {},
     "output_type": "execute_result"
    },
    {
     "data": {
      "image/png": "[encoded data removed]",
      "text/plain": [
       "<Figure size 432x288 with 1 Axes>"
      ]
     },
     "metadata": {
      "needs_background": "light"
     },
     "output_type": "display_data"
    }
   ],
   "source": [
    "fig = plt.figure()\n",
    "ax = fig.add_subplot(111)\n",
    "ax.plot(theta, s, '.') "
   ]
  },
  {
   "cell_type": "code",
   "execution_count": 13,
   "metadata": {
    "scrolled": true
   },
   "outputs": [
    {
     "data": {
      "text/plain": [
       "array([ 0. ,  0.1,  0.2,  0.3,  0.4,  0.5,  0.6,  0.7,  0.8,  0.9,  1. ,\n",
       "        1.1,  1.2,  1.3,  1.4,  1.5,  1.6,  1.7,  1.8,  1.9,  2. ,  2.1,\n",
       "        2.2,  2.3,  2.4,  2.5,  2.6,  2.7,  2.8,  2.9,  3. ,  3.1,  3.2,\n",
       "        3.3,  3.4,  3.5,  3.6,  3.7,  3.8,  3.9,  4. ,  4.1,  4.2,  4.3,\n",
       "        4.4,  4.5,  4.6,  4.7,  4.8,  4.9,  5. ,  5.1,  5.2,  5.3,  5.4,\n",
       "        5.5,  5.6,  5.7,  5.8,  5.9,  6. ,  6.1,  6.2,  6.3,  6.4,  6.5,\n",
       "        6.6,  6.7,  6.8,  6.9,  7. ,  7.1,  7.2,  7.3,  7.4,  7.5,  7.6,\n",
       "        7.7,  7.8,  7.9,  8. ,  8.1,  8.2,  8.3,  8.4,  8.5,  8.6,  8.7,\n",
       "        8.8,  8.9,  9. ,  9.1,  9.2,  9.3,  9.4,  9.5,  9.6,  9.7,  9.8,\n",
       "        9.9, 10. , 10.1, 10.2, 10.3, 10.4, 10.5, 10.6, 10.7, 10.8, 10.9,\n",
       "       11. , 11.1, 11.2, 11.3, 11.4, 11.5, 11.6, 11.7, 11.8, 11.9, 12. ,\n",
       "       12.1, 12.2, 12.3, 12.4, 12.5, 12.6, 12.7, 12.8, 12.9, 13. , 13.1,\n",
       "       13.2, 13.3, 13.4, 13.5, 13.6, 13.7, 13.8, 13.9, 14. , 14.1, 14.2,\n",
       "       14.3, 14.4, 14.5, 14.6, 14.7, 14.8, 14.9, 15. , 15.1, 15.2, 15.3,\n",
       "       15.4, 15.5, 15.6, 15.7, 15.8, 15.9, 16. , 16.1, 16.2, 16.3, 16.4,\n",
       "       16.5, 16.6, 16.7, 16.8, 16.9, 17. , 17.1, 17.2, 17.3, 17.4, 17.5,\n",
       "       17.6, 17.7, 17.8, 17.9, 18. , 18.1, 18.2, 18.3, 18.4, 18.5, 18.6,\n",
       "       18.7, 18.8, 18.9, 19. , 19.1, 19.2, 19.3, 19.4, 19.5, 19.6, 19.7,\n",
       "       19.8, 19.9, 20. , 20.1, 20.2, 20.3, 20.4, 20.5, 20.6, 20.7, 20.8,\n",
       "       20.9, 21. , 21.1, 21.2, 21.3, 21.4, 21.5, 21.6, 21.7, 21.8, 21.9,\n",
       "       22. , 22.1, 22.2, 22.3, 22.4, 22.5, 22.6, 22.7, 22.8, 22.9, 23. ,\n",
       "       23.1, 23.2, 23.3, 23.4, 23.5, 23.6, 23.7, 23.8, 23.9, 24. , 24.1,\n",
       "       24.2, 24.3, 24.4, 24.5, 24.6, 24.7, 24.8, 24.9, 25. , 25.1, 25.2,\n",
       "       25.3, 25.4, 25.5, 25.6, 25.7, 25.8, 25.9, 26. , 26.1, 26.2, 26.3,\n",
       "       26.4, 26.5, 26.6, 26.7, 26.8, 26.9, 27. , 27.1, 27.2, 27.3, 27.4,\n",
       "       27.5, 27.6, 27.7, 27.8, 27.9, 28. , 28.1, 28.2, 28.3, 28.4, 28.5,\n",
       "       28.6, 28.7, 28.8, 28.9, 29. , 29.1, 29.2, 29.3, 29.4, 29.5, 29.6,\n",
       "       29.7, 29.8, 29.9, 30. , 30.1, 30.2, 30.3, 30.4, 30.5, 30.6, 30.7,\n",
       "       30.8, 30.9, 31. , 31.1, 31.2, 31.3, 31.4])"
      ]
     },
     "execution_count": 13,
     "metadata": {},
     "output_type": "execute_result"
    }
   ],
   "source": [
    "theta = np.arange(0, 10*np.pi,0.1) \n",
    "# 0부터 2파이 까지 만들다. 하지만 이렇게 하면 1씩 뛰어진다. 6으로 끝나는 이유는 파이*2 = 6.28.... 이기 때문 \n",
    "theta"
   ]
  },
  {
   "cell_type": "code",
   "execution_count": 14,
   "metadata": {
    "scrolled": true
   },
   "outputs": [],
   "source": [
    "s = np.sin(theta)"
   ]
  },
  {
   "cell_type": "code",
   "execution_count": 55,
   "metadata": {},
   "outputs": [
    {
     "data": {
      "application/javascript": [
       "/* Put everything inside the global mpl namespace */\n",
       "window.mpl = {};\n",
       "\n",
       "\n",
       "mpl.get_websocket_type = function() {\n",
       "    if (typeof(WebSocket) !== 'undefined') {\n",
       "        return WebSocket;\n",
       "    } else if (typeof(MozWebSocket) !== 'undefined') {\n",
       "        return MozWebSocket;\n",
       "    } else {\n",
       "        alert('Your browser does not have WebSocket support. ' +\n",
       "              'Please try Chrome, Safari or Firefox ≥ 6. ' +\n",
       "              'Firefox 4 and 5 are also supported but you ' +\n",
       "              'have to enable WebSockets in about:config.');\n",
       "    };\n",
       "}\n",
       "\n",
       "mpl.figure = function(figure_id, websocket, ondownload, parent_element) {\n",
       "    this.id = figure_id;\n",
       "\n",
       "    this.ws = websocket;\n",
       "\n",
       "    this.supports_binary = (this.ws.binaryType != undefined);\n",
       "\n",
       "    if (!this.supports_binary) {\n",
       "        var warnings = document.getElementById(\"mpl-warnings\");\n",
       "        if (warnings) {\n",
       "            warnings.style.display = 'block';\n",
       "            warnings.textContent = (\n",
       "                \"This browser does not support binary websocket messages. \" +\n",
       "                    \"Performance may be slow.\");\n",
       "        }\n",
       "    }\n",
       "\n",
       "    this.imageObj = new Image();\n",
       "\n",
       "    this.context = undefined;\n",
       "    this.message = undefined;\n",
       "    this.canvas = undefined;\n",
       "    this.rubberband_canvas = undefined;\n",
       "    this.rubberband_context = undefined;\n",
       "    this.format_dropdown = undefined;\n",
       "\n",
       "    this.image_mode = 'full';\n",
       "\n",
       "    this.root = $('<div/>');\n",
       "    this._root_extra_style(this.root)\n",
       "    this.root.attr('style', 'display: inline-block');\n",
       "\n",
       "    $(parent_element).append(this.root);\n",
       "\n",
       "    this._init_header(this);\n",
       "    this._init_canvas(this);\n",
       "    this._init_toolbar(this);\n",
       "\n",
       "    var fig = this;\n",
       "\n",
       "    this.waiting = false;\n",
       "\n",
       "    this.ws.onopen =  function () {\n",
       "            fig.send_message(\"supports_binary\", {value: fig.supports_binary});\n",
       "            fig.send_message(\"send_image_mode\", {});\n",
       "            if (mpl.ratio != 1) {\n",
       "                fig.send_message(\"set_dpi_ratio\", {'dpi_ratio': mpl.ratio});\n",
       "            }\n",
       "            fig.send_message(\"refresh\", {});\n",
       "        }\n",
       "\n",
       "    this.imageObj.onload = function() {\n",
       "            if (fig.image_mode == 'full') {\n",
       "                // Full images could contain transparency (where diff images\n",
       "                // almost always do), so we need to clear the canvas so that\n",
       "                // there is no ghosting.\n",
       "                fig.context.clearRect(0, 0, fig.canvas.width, fig.canvas.height);\n",
       "            }\n",
       "            fig.context.drawImage(fig.imageObj, 0, 0);\n",
       "        };\n",
       "\n",
       "    this.imageObj.onunload = function() {\n",
       "        fig.ws.close();\n",
       "    }\n",
       "\n",
       "    this.ws.onmessage = this._make_on_message_function(this);\n",
       "\n",
       "    this.ondownload = ondownload;\n",
       "}\n",
       "\n",
       "mpl.figure.prototype._init_header = function() {\n",
       "    var titlebar = $(\n",
       "        '<div class=\"ui-dialog-titlebar ui-widget-header ui-corner-all ' +\n",
       "        'ui-helper-clearfix\"/>');\n",
       "    var titletext = $(\n",
       "        '<div class=\"ui-dialog-title\" style=\"width: 100%; ' +\n",
       "        'text-align: center; padding: 3px;\"/>');\n",
       "    titlebar.append(titletext)\n",
       "    this.root.append(titlebar);\n",
       "    this.header = titletext[0];\n",
       "}\n",
       "\n",
       "\n",
       "\n",
       "mpl.figure.prototype._canvas_extra_style = function(canvas_div) {\n",
       "\n",
       "}\n",
       "\n",
       "\n",
       "mpl.figure.prototype._root_extra_style = function(canvas_div) {\n",
       "\n",
       "}\n",
       "\n",
       "mpl.figure.prototype._init_canvas = function() {\n",
       "    var fig = this;\n",
       "\n",
       "    var canvas_div = $('<div/>');\n",
       "\n",
       "    canvas_div.attr('style', 'position: relative; clear: both; outline: 0');\n",
       "\n",
       "    function canvas_keyboard_event(event) {\n",
       "        return fig.key_event(event, event['data']);\n",
       "    }\n",
       "\n",
       "    canvas_div.keydown('key_press', canvas_keyboard_event);\n",
       "    canvas_div.keyup('key_release', canvas_keyboard_event);\n",
       "    this.canvas_div = canvas_div\n",
       "    this._canvas_extra_style(canvas_div)\n",
       "    this.root.append(canvas_div);\n",
       "\n",
       "    var canvas = $('<canvas/>');\n",
       "    canvas.addClass('mpl-canvas');\n",
       "    canvas.attr('style', \"left: 0; top: 0; z-index: 0; outline: 0\")\n",
       "\n",
       "    this.canvas = canvas[0];\n",
       "    this.context = canvas[0].getContext(\"2d\");\n",
       "\n",
       "    var backingStore = this.context.backingStorePixelRatio ||\n",
       "\tthis.context.webkitBackingStorePixelRatio ||\n",
       "\tthis.context.mozBackingStorePixelRatio ||\n",
       "\tthis.context.msBackingStorePixelRatio ||\n",
       "\tthis.context.oBackingStorePixelRatio ||\n",
       "\tthis.context.backingStorePixelRatio || 1;\n",
       "\n",
       "    mpl.ratio = (window.devicePixelRatio || 1) / backingStore;\n",
       "\n",
       "    var rubberband = $('<canvas/>');\n",
       "    rubberband.attr('style', \"position: absolute; left: 0; top: 0; z-index: 1;\")\n",
       "\n",
       "    var pass_mouse_events = true;\n",
       "\n",
       "    canvas_div.resizable({\n",
       "        start: function(event, ui) {\n",
       "            pass_mouse_events = false;\n",
       "        },\n",
       "        resize: function(event, ui) {\n",
       "            fig.request_resize(ui.size.width, ui.size.height);\n",
       "        },\n",
       "        stop: function(event, ui) {\n",
       "            pass_mouse_events = true;\n",
       "            fig.request_resize(ui.size.width, ui.size.height);\n",
       "        },\n",
       "    });\n",
       "\n",
       "    function mouse_event_fn(event) {\n",
       "        if (pass_mouse_events)\n",
       "            return fig.mouse_event(event, event['data']);\n",
       "    }\n",
       "\n",
       "    rubberband.mousedown('button_press', mouse_event_fn);\n",
       "    rubberband.mouseup('button_release', mouse_event_fn);\n",
       "    // Throttle sequential mouse events to 1 every 20ms.\n",
       "    rubberband.mousemove('motion_notify', mouse_event_fn);\n",
       "\n",
       "    rubberband.mouseenter('figure_enter', mouse_event_fn);\n",
       "    rubberband.mouseleave('figure_leave', mouse_event_fn);\n",
       "\n",
       "    canvas_div.on(\"wheel\", function (event) {\n",
       "        event = event.originalEvent;\n",
       "        event['data'] = 'scroll'\n",
       "        if (event.deltaY < 0) {\n",
       "            event.step = 1;\n",
       "        } else {\n",
       "            event.step = -1;\n",
       "        }\n",
       "        mouse_event_fn(event);\n",
       "    });\n",
       "\n",
       "    canvas_div.append(canvas);\n",
       "    canvas_div.append(rubberband);\n",
       "\n",
       "    this.rubberband = rubberband;\n",
       "    this.rubberband_canvas = rubberband[0];\n",
       "    this.rubberband_context = rubberband[0].getContext(\"2d\");\n",
       "    this.rubberband_context.strokeStyle = \"#000000\";\n",
       "\n",
       "    this._resize_canvas = function(width, height) {\n",
       "        // Keep the size of the canvas, canvas container, and rubber band\n",
       "        // canvas in synch.\n",
       "        canvas_div.css('width', width)\n",
       "        canvas_div.css('height', height)\n",
       "\n",
       "        canvas.attr('width', width * mpl.ratio);\n",
       "        canvas.attr('height', height * mpl.ratio);\n",
       "        canvas.attr('style', 'width: ' + width + 'px; height: ' + height + 'px;');\n",
       "\n",
       "        rubberband.attr('width', width);\n",
       "        rubberband.attr('height', height);\n",
       "    }\n",
       "\n",
       "    // Set the figure to an initial 600x600px, this will subsequently be updated\n",
       "    // upon first draw.\n",
       "    this._resize_canvas(600, 600);\n",
       "\n",
       "    // Disable right mouse context menu.\n",
       "    $(this.rubberband_canvas).bind(\"contextmenu\",function(e){\n",
       "        return false;\n",
       "    });\n",
       "\n",
       "    function set_focus () {\n",
       "        canvas.focus();\n",
       "        canvas_div.focus();\n",
       "    }\n",
       "\n",
       "    window.setTimeout(set_focus, 100);\n",
       "}\n",
       "\n",
       "mpl.figure.prototype._init_toolbar = function() {\n",
       "    var fig = this;\n",
       "\n",
       "    var nav_element = $('<div/>');\n",
       "    nav_element.attr('style', 'width: 100%');\n",
       "    this.root.append(nav_element);\n",
       "\n",
       "    // Define a callback function for later on.\n",
       "    function toolbar_event(event) {\n",
       "        return fig.toolbar_button_onclick(event['data']);\n",
       "    }\n",
       "    function toolbar_mouse_event(event) {\n",
       "        return fig.toolbar_button_onmouseover(event['data']);\n",
       "    }\n",
       "\n",
       "    for(var toolbar_ind in mpl.toolbar_items) {\n",
       "        var name = mpl.toolbar_items[toolbar_ind][0];\n",
       "        var tooltip = mpl.toolbar_items[toolbar_ind][1];\n",
       "        var image = mpl.toolbar_items[toolbar_ind][2];\n",
       "        var method_name = mpl.toolbar_items[toolbar_ind][3];\n",
       "\n",
       "        if (!name) {\n",
       "            // put a spacer in here.\n",
       "            continue;\n",
       "        }\n",
       "        var button = $('<button/>');\n",
       "        button.addClass('ui-button ui-widget ui-state-default ui-corner-all ' +\n",
       "                        'ui-button-icon-only');\n",
       "        button.attr('role', 'button');\n",
       "        button.attr('aria-disabled', 'false');\n",
       "        button.click(method_name, toolbar_event);\n",
       "        button.mouseover(tooltip, toolbar_mouse_event);\n",
       "\n",
       "        var icon_img = $('<span/>');\n",
       "        icon_img.addClass('ui-button-icon-primary ui-icon');\n",
       "        icon_img.addClass(image);\n",
       "        icon_img.addClass('ui-corner-all');\n",
       "\n",
       "        var tooltip_span = $('<span/>');\n",
       "        tooltip_span.addClass('ui-button-text');\n",
       "        tooltip_span.html(tooltip);\n",
       "\n",
       "        button.append(icon_img);\n",
       "        button.append(tooltip_span);\n",
       "\n",
       "        nav_element.append(button);\n",
       "    }\n",
       "\n",
       "    var fmt_picker_span = $('<span/>');\n",
       "\n",
       "    var fmt_picker = $('<select/>');\n",
       "    fmt_picker.addClass('mpl-toolbar-option ui-widget ui-widget-content');\n",
       "    fmt_picker_span.append(fmt_picker);\n",
       "    nav_element.append(fmt_picker_span);\n",
       "    this.format_dropdown = fmt_picker[0];\n",
       "\n",
       "    for (var ind in mpl.extensions) {\n",
       "        var fmt = mpl.extensions[ind];\n",
       "        var option = $(\n",
       "            '<option/>', {selected: fmt === mpl.default_extension}).html(fmt);\n",
       "        fmt_picker.append(option);\n",
       "    }\n",
       "\n",
       "    // Add hover states to the ui-buttons\n",
       "    $( \".ui-button\" ).hover(\n",
       "        function() { $(this).addClass(\"ui-state-hover\");},\n",
       "        function() { $(this).removeClass(\"ui-state-hover\");}\n",
       "    );\n",
       "\n",
       "    var status_bar = $('<span class=\"mpl-message\"/>');\n",
       "    nav_element.append(status_bar);\n",
       "    this.message = status_bar[0];\n",
       "}\n",
       "\n",
       "mpl.figure.prototype.request_resize = function(x_pixels, y_pixels) {\n",
       "    // Request matplotlib to resize the figure. Matplotlib will then trigger a resize in the client,\n",
       "    // which will in turn request a refresh of the image.\n",
       "    this.send_message('resize', {'width': x_pixels, 'height': y_pixels});\n",
       "}\n",
       "\n",
       "mpl.figure.prototype.send_message = function(type, properties) {\n",
       "    properties['type'] = type;\n",
       "    properties['figure_id'] = this.id;\n",
       "    this.ws.send(JSON.stringify(properties));\n",
       "}\n",
       "\n",
       "mpl.figure.prototype.send_draw_message = function() {\n",
       "    if (!this.waiting) {\n",
       "        this.waiting = true;\n",
       "        this.ws.send(JSON.stringify({type: \"draw\", figure_id: this.id}));\n",
       "    }\n",
       "}\n",
       "\n",
       "\n",
       "mpl.figure.prototype.handle_save = function(fig, msg) {\n",
       "    var format_dropdown = fig.format_dropdown;\n",
       "    var format = format_dropdown.options[format_dropdown.selectedIndex].value;\n",
       "    fig.ondownload(fig, format);\n",
       "}\n",
       "\n",
       "\n",
       "mpl.figure.prototype.handle_resize = function(fig, msg) {\n",
       "    var size = msg['size'];\n",
       "    if (size[0] != fig.canvas.width || size[1] != fig.canvas.height) {\n",
       "        fig._resize_canvas(size[0], size[1]);\n",
       "        fig.send_message(\"refresh\", {});\n",
       "    };\n",
       "}\n",
       "\n",
       "mpl.figure.prototype.handle_rubberband = function(fig, msg) {\n",
       "    var x0 = msg['x0'] / mpl.ratio;\n",
       "    var y0 = (fig.canvas.height - msg['y0']) / mpl.ratio;\n",
       "    var x1 = msg['x1'] / mpl.ratio;\n",
       "    var y1 = (fig.canvas.height - msg['y1']) / mpl.ratio;\n",
       "    x0 = Math.floor(x0) + 0.5;\n",
       "    y0 = Math.floor(y0) + 0.5;\n",
       "    x1 = Math.floor(x1) + 0.5;\n",
       "    y1 = Math.floor(y1) + 0.5;\n",
       "    var min_x = Math.min(x0, x1);\n",
       "    var min_y = Math.min(y0, y1);\n",
       "    var width = Math.abs(x1 - x0);\n",
       "    var height = Math.abs(y1 - y0);\n",
       "\n",
       "    fig.rubberband_context.clearRect(\n",
       "        0, 0, fig.canvas.width, fig.canvas.height);\n",
       "\n",
       "    fig.rubberband_context.strokeRect(min_x, min_y, width, height);\n",
       "}\n",
       "\n",
       "mpl.figure.prototype.handle_figure_label = function(fig, msg) {\n",
       "    // Updates the figure title.\n",
       "    fig.header.textContent = msg['label'];\n",
       "}\n",
       "\n",
       "mpl.figure.prototype.handle_cursor = function(fig, msg) {\n",
       "    var cursor = msg['cursor'];\n",
       "    switch(cursor)\n",
       "    {\n",
       "    case 0:\n",
       "        cursor = 'pointer';\n",
       "        break;\n",
       "    case 1:\n",
       "        cursor = 'default';\n",
       "        break;\n",
       "    case 2:\n",
       "        cursor = 'crosshair';\n",
       "        break;\n",
       "    case 3:\n",
       "        cursor = 'move';\n",
       "        break;\n",
       "    }\n",
       "    fig.rubberband_canvas.style.cursor = cursor;\n",
       "}\n",
       "\n",
       "mpl.figure.prototype.handle_message = function(fig, msg) {\n",
       "    fig.message.textContent = msg['message'];\n",
       "}\n",
       "\n",
       "mpl.figure.prototype.handle_draw = function(fig, msg) {\n",
       "    // Request the server to send over a new figure.\n",
       "    fig.send_draw_message();\n",
       "}\n",
       "\n",
       "mpl.figure.prototype.handle_image_mode = function(fig, msg) {\n",
       "    fig.image_mode = msg['mode'];\n",
       "}\n",
       "\n",
       "mpl.figure.prototype.updated_canvas_event = function() {\n",
       "    // Called whenever the canvas gets updated.\n",
       "    this.send_message(\"ack\", {});\n",
       "}\n",
       "\n",
       "// A function to construct a web socket function for onmessage handling.\n",
       "// Called in the figure constructor.\n",
       "mpl.figure.prototype._make_on_message_function = function(fig) {\n",
       "    return function socket_on_message(evt) {\n",
       "        if (evt.data instanceof Blob) {\n",
       "            /* FIXME: We get \"Resource interpreted as Image but\n",
       "             * transferred with MIME type text/plain:\" errors on\n",
       "             * Chrome.  But how to set the MIME type?  It doesn't seem\n",
       "             * to be part of the websocket stream */\n",
       "            evt.data.type = \"image/png\";\n",
       "\n",
       "            /* Free the memory for the previous frames */\n",
       "            if (fig.imageObj.src) {\n",
       "                (window.URL || window.webkitURL).revokeObjectURL(\n",
       "                    fig.imageObj.src);\n",
       "            }\n",
       "\n",
       "            fig.imageObj.src = (window.URL || window.webkitURL).createObjectURL(\n",
       "                evt.data);\n",
       "            fig.updated_canvas_event();\n",
       "            fig.waiting = false;\n",
       "            return;\n",
       "        }\n",
       "        else if (typeof evt.data === 'string' && evt.data.slice(0, 21) == \"data:image/png;base64\") {\n",
       "            fig.imageObj.src = evt.data;\n",
       "            fig.updated_canvas_event();\n",
       "            fig.waiting = false;\n",
       "            return;\n",
       "        }\n",
       "\n",
       "        var msg = JSON.parse(evt.data);\n",
       "        var msg_type = msg['type'];\n",
       "\n",
       "        // Call the  \"handle_{type}\" callback, which takes\n",
       "        // the figure and JSON message as its only arguments.\n",
       "        try {\n",
       "            var callback = fig[\"handle_\" + msg_type];\n",
       "        } catch (e) {\n",
       "            console.log(\"No handler for the '\" + msg_type + \"' message type: \", msg);\n",
       "            return;\n",
       "        }\n",
       "\n",
       "        if (callback) {\n",
       "            try {\n",
       "                // console.log(\"Handling '\" + msg_type + \"' message: \", msg);\n",
       "                callback(fig, msg);\n",
       "            } catch (e) {\n",
       "                console.log(\"Exception inside the 'handler_\" + msg_type + \"' callback:\", e, e.stack, msg);\n",
       "            }\n",
       "        }\n",
       "    };\n",
       "}\n",
       "\n",
       "// from http://stackoverflow.com/questions/1114465/getting-mouse-location-in-canvas\n",
       "mpl.findpos = function(e) {\n",
       "    //this section is from http://www.quirksmode.org/js/events_properties.html\n",
       "    var targ;\n",
       "    if (!e)\n",
       "        e = window.event;\n",
       "    if (e.target)\n",
       "        targ = e.target;\n",
       "    else if (e.srcElement)\n",
       "        targ = e.srcElement;\n",
       "    if (targ.nodeType == 3) // defeat Safari bug\n",
       "        targ = targ.parentNode;\n",
       "\n",
       "    // jQuery normalizes the pageX and pageY\n",
       "    // pageX,Y are the mouse positions relative to the document\n",
       "    // offset() returns the position of the element relative to the document\n",
       "    var x = e.pageX - $(targ).offset().left;\n",
       "    var y = e.pageY - $(targ).offset().top;\n",
       "\n",
       "    return {\"x\": x, \"y\": y};\n",
       "};\n",
       "\n",
       "/*\n",
       " * return a copy of an object with only non-object keys\n",
       " * we need this to avoid circular references\n",
       " * http://stackoverflow.com/a/24161582/3208463\n",
       " */\n",
       "function simpleKeys (original) {\n",
       "  return Object.keys(original).reduce(function (obj, key) {\n",
       "    if (typeof original[key] !== 'object')\n",
       "        obj[key] = original[key]\n",
       "    return obj;\n",
       "  }, {});\n",
       "}\n",
       "\n",
       "mpl.figure.prototype.mouse_event = function(event, name) {\n",
       "    var canvas_pos = mpl.findpos(event)\n",
       "\n",
       "    if (name === 'button_press')\n",
       "    {\n",
       "        this.canvas.focus();\n",
       "        this.canvas_div.focus();\n",
       "    }\n",
       "\n",
       "    var x = canvas_pos.x * mpl.ratio;\n",
       "    var y = canvas_pos.y * mpl.ratio;\n",
       "\n",
       "    this.send_message(name, {x: x, y: y, button: event.button,\n",
       "                             step: event.step,\n",
       "                             guiEvent: simpleKeys(event)});\n",
       "\n",
       "    /* This prevents the web browser from automatically changing to\n",
       "     * the text insertion cursor when the button is pressed.  We want\n",
       "     * to control all of the cursor setting manually through the\n",
       "     * 'cursor' event from matplotlib */\n",
       "    event.preventDefault();\n",
       "    return false;\n",
       "}\n",
       "\n",
       "mpl.figure.prototype._key_event_extra = function(event, name) {\n",
       "    // Handle any extra behaviour associated with a key event\n",
       "}\n",
       "\n",
       "mpl.figure.prototype.key_event = function(event, name) {\n",
       "\n",
       "    // Prevent repeat events\n",
       "    if (name == 'key_press')\n",
       "    {\n",
       "        if (event.which === this._key)\n",
       "            return;\n",
       "        else\n",
       "            this._key = event.which;\n",
       "    }\n",
       "    if (name == 'key_release')\n",
       "        this._key = null;\n",
       "\n",
       "    var value = '';\n",
       "    if (event.ctrlKey && event.which != 17)\n",
       "        value += \"ctrl+\";\n",
       "    if (event.altKey && event.which != 18)\n",
       "        value += \"alt+\";\n",
       "    if (event.shiftKey && event.which != 16)\n",
       "        value += \"shift+\";\n",
       "\n",
       "    value += 'k';\n",
       "    value += event.which.toString();\n",
       "\n",
       "    this._key_event_extra(event, name);\n",
       "\n",
       "    this.send_message(name, {key: value,\n",
       "                             guiEvent: simpleKeys(event)});\n",
       "    return false;\n",
       "}\n",
       "\n",
       "mpl.figure.prototype.toolbar_button_onclick = function(name) {\n",
       "    if (name == 'download') {\n",
       "        this.handle_save(this, null);\n",
       "    } else {\n",
       "        this.send_message(\"toolbar_button\", {name: name});\n",
       "    }\n",
       "};\n",
       "\n",
       "mpl.figure.prototype.toolbar_button_onmouseover = function(tooltip) {\n",
       "    this.message.textContent = tooltip;\n",
       "};\n",
       "mpl.toolbar_items = [[\"Home\", \"Reset original view\", \"fa fa-home icon-home\", \"home\"], [\"Back\", \"Back to previous view\", \"fa fa-arrow-left icon-arrow-left\", \"back\"], [\"Forward\", \"Forward to next view\", \"fa fa-arrow-right icon-arrow-right\", \"forward\"], [\"\", \"\", \"\", \"\"], [\"Pan\", \"Pan axes with left mouse, zoom with right\", \"fa fa-arrows icon-move\", \"pan\"], [\"Zoom\", \"Zoom to rectangle\", \"fa fa-square-o icon-check-empty\", \"zoom\"], [\"\", \"\", \"\", \"\"], [\"Download\", \"Download plot\", \"fa fa-floppy-o icon-save\", \"download\"]];\n",
       "\n",
       "mpl.extensions = [\"eps\", \"jpeg\", \"pdf\", \"png\", \"ps\", \"raw\", \"svg\", \"tif\"];\n",
       "\n",
       "mpl.default_extension = \"png\";var comm_websocket_adapter = function(comm) {\n",
       "    // Create a \"websocket\"-like object which calls the given IPython comm\n",
       "    // object with the appropriate methods. Currently this is a non binary\n",
       "    // socket, so there is still some room for performance tuning.\n",
       "    var ws = {};\n",
       "\n",
       "    ws.close = function() {\n",
       "        comm.close()\n",
       "    };\n",
       "    ws.send = function(m) {\n",
       "        //console.log('sending', m);\n",
       "        comm.send(m);\n",
       "    };\n",
       "    // Register the callback with on_msg.\n",
       "    comm.on_msg(function(msg) {\n",
       "        //console.log('receiving', msg['content']['data'], msg);\n",
       "        // Pass the mpl event to the overridden (by mpl) onmessage function.\n",
       "        ws.onmessage(msg['content']['data'])\n",
       "    });\n",
       "    return ws;\n",
       "}\n",
       "\n",
       "mpl.mpl_figure_comm = function(comm, msg) {\n",
       "    // This is the function which gets called when the mpl process\n",
       "    // starts-up an IPython Comm through the \"matplotlib\" channel.\n",
       "\n",
       "    var id = msg.content.data.id;\n",
       "    // Get hold of the div created by the display call when the Comm\n",
       "    // socket was opened in Python.\n",
       "    var element = $(\"#\" + id);\n",
       "    var ws_proxy = comm_websocket_adapter(comm)\n",
       "\n",
       "    function ondownload(figure, format) {\n",
       "        window.open(figure.imageObj.src);\n",
       "    }\n",
       "\n",
       "    var fig = new mpl.figure(id, ws_proxy,\n",
       "                           ondownload,\n",
       "                           element.get(0));\n",
       "\n",
       "    // Call onopen now - mpl needs it, as it is assuming we've passed it a real\n",
       "    // web socket which is closed, not our websocket->open comm proxy.\n",
       "    ws_proxy.onopen();\n",
       "\n",
       "    fig.parent_element = element.get(0);\n",
       "    fig.cell_info = mpl.find_output_cell(\"<div id='\" + id + \"'></div>\");\n",
       "    if (!fig.cell_info) {\n",
       "        console.error(\"Failed to find cell for figure\", id, fig);\n",
       "        return;\n",
       "    }\n",
       "\n",
       "    var output_index = fig.cell_info[2]\n",
       "    var cell = fig.cell_info[0];\n",
       "\n",
       "};\n",
       "\n",
       "mpl.figure.prototype.handle_close = function(fig, msg) {\n",
       "    var width = fig.canvas.width/mpl.ratio\n",
       "    fig.root.unbind('remove')\n",
       "\n",
       "    // Update the output cell to use the data from the current canvas.\n",
       "    fig.push_to_output();\n",
       "    var dataURL = fig.canvas.toDataURL();\n",
       "    // Re-enable the keyboard manager in IPython - without this line, in FF,\n",
       "    // the notebook keyboard shortcuts fail.\n",
       "    IPython.keyboard_manager.enable()\n",
       "    $(fig.parent_element).html('<img src=\"' + dataURL + '\" width=\"' + width + '\">');\n",
       "    fig.close_ws(fig, msg);\n",
       "}\n",
       "\n",
       "mpl.figure.prototype.close_ws = function(fig, msg){\n",
       "    fig.send_message('closing', msg);\n",
       "    // fig.ws.close()\n",
       "}\n",
       "\n",
       "mpl.figure.prototype.push_to_output = function(remove_interactive) {\n",
       "    // Turn the data on the canvas into data in the output cell.\n",
       "    var width = this.canvas.width/mpl.ratio\n",
       "    var dataURL = this.canvas.toDataURL();\n",
       "    this.cell_info[1]['text/html'] = '<img src=\"' + dataURL + '\" width=\"' + width + '\">';\n",
       "}\n",
       "\n",
       "mpl.figure.prototype.updated_canvas_event = function() {\n",
       "    // Tell IPython that the notebook contents must change.\n",
       "    IPython.notebook.set_dirty(true);\n",
       "    this.send_message(\"ack\", {});\n",
       "    var fig = this;\n",
       "    // Wait a second, then push the new image to the DOM so\n",
       "    // that it is saved nicely (might be nice to debounce this).\n",
       "    setTimeout(function () { fig.push_to_output() }, 1000);\n",
       "}\n",
       "\n",
       "mpl.figure.prototype._init_toolbar = function() {\n",
       "    var fig = this;\n",
       "\n",
       "    var nav_element = $('<div/>');\n",
       "    nav_element.attr('style', 'width: 100%');\n",
       "    this.root.append(nav_element);\n",
       "\n",
       "    // Define a callback function for later on.\n",
       "    function toolbar_event(event) {\n",
       "        return fig.toolbar_button_onclick(event['data']);\n",
       "    }\n",
       "    function toolbar_mouse_event(event) {\n",
       "        return fig.toolbar_button_onmouseover(event['data']);\n",
       "    }\n",
       "\n",
       "    for(var toolbar_ind in mpl.toolbar_items){\n",
       "        var name = mpl.toolbar_items[toolbar_ind][0];\n",
       "        var tooltip = mpl.toolbar_items[toolbar_ind][1];\n",
       "        var image = mpl.toolbar_items[toolbar_ind][2];\n",
       "        var method_name = mpl.toolbar_items[toolbar_ind][3];\n",
       "\n",
       "        if (!name) { continue; };\n",
       "\n",
       "        var button = $('<button class=\"btn btn-default\" href=\"#\" title=\"' + name + '\"><i class=\"fa ' + image + ' fa-lg\"></i></button>');\n",
       "        button.click(method_name, toolbar_event);\n",
       "        button.mouseover(tooltip, toolbar_mouse_event);\n",
       "        nav_element.append(button);\n",
       "    }\n",
       "\n",
       "    // Add the status bar.\n",
       "    var status_bar = $('<span class=\"mpl-message\" style=\"text-align:right; float: right;\"/>');\n",
       "    nav_element.append(status_bar);\n",
       "    this.message = status_bar[0];\n",
       "\n",
       "    // Add the close button to the window.\n",
       "    var buttongrp = $('<div class=\"btn-group inline pull-right\"></div>');\n",
       "    var button = $('<button class=\"btn btn-mini btn-primary\" href=\"#\" title=\"Stop Interaction\"><i class=\"fa fa-power-off icon-remove icon-large\"></i></button>');\n",
       "    button.click(function (evt) { fig.handle_close(fig, {}); } );\n",
       "    button.mouseover('Stop Interaction', toolbar_mouse_event);\n",
       "    buttongrp.append(button);\n",
       "    var titlebar = this.root.find($('.ui-dialog-titlebar'));\n",
       "    titlebar.prepend(buttongrp);\n",
       "}\n",
       "\n",
       "mpl.figure.prototype._root_extra_style = function(el){\n",
       "    var fig = this\n",
       "    el.on(\"remove\", function(){\n",
       "\tfig.close_ws(fig, {});\n",
       "    });\n",
       "}\n",
       "\n",
       "mpl.figure.prototype._canvas_extra_style = function(el){\n",
       "    // this is important to make the div 'focusable\n",
       "    el.attr('tabindex', 0)\n",
       "    // reach out to IPython and tell the keyboard manager to turn it's self\n",
       "    // off when our div gets focus\n",
       "\n",
       "    // location in version 3\n",
       "    if (IPython.notebook.keyboard_manager) {\n",
       "        IPython.notebook.keyboard_manager.register_events(el);\n",
       "    }\n",
       "    else {\n",
       "        // location in version 2\n",
       "        IPython.keyboard_manager.register_events(el);\n",
       "    }\n",
       "\n",
       "}\n",
       "\n",
       "mpl.figure.prototype._key_event_extra = function(event, name) {\n",
       "    var manager = IPython.notebook.keyboard_manager;\n",
       "    if (!manager)\n",
       "        manager = IPython.keyboard_manager;\n",
       "\n",
       "    // Check for shift+enter\n",
       "    if (event.shiftKey && event.which == 13) {\n",
       "        this.canvas_div.blur();\n",
       "        event.shiftKey = false;\n",
       "        // Send a \"J\" for go to next cell\n",
       "        event.which = 74;\n",
       "        event.keyCode = 74;\n",
       "        manager.command_mode();\n",
       "        manager.handle_keydown(event);\n",
       "    }\n",
       "}\n",
       "\n",
       "mpl.figure.prototype.handle_save = function(fig, msg) {\n",
       "    fig.ondownload(fig, null);\n",
       "}\n",
       "\n",
       "\n",
       "mpl.find_output_cell = function(html_output) {\n",
       "    // Return the cell and output element which can be found *uniquely* in the notebook.\n",
       "    // Note - this is a bit hacky, but it is done because the \"notebook_saving.Notebook\"\n",
       "    // IPython event is triggered only after the cells have been serialised, which for\n",
       "    // our purposes (turning an active figure into a static one), is too late.\n",
       "    var cells = IPython.notebook.get_cells();\n",
       "    var ncells = cells.length;\n",
       "    for (var i=0; i<ncells; i++) {\n",
       "        var cell = cells[i];\n",
       "        if (cell.cell_type === 'code'){\n",
       "            for (var j=0; j<cell.output_area.outputs.length; j++) {\n",
       "                var data = cell.output_area.outputs[j];\n",
       "                if (data.data) {\n",
       "                    // IPython >= 3 moved mimebundle to data attribute of output\n",
       "                    data = data.data;\n",
       "                }\n",
       "                if (data['text/html'] == html_output) {\n",
       "                    return [cell, data, j];\n",
       "                }\n",
       "            }\n",
       "        }\n",
       "    }\n",
       "}\n",
       "\n",
       "// Register the function which deals with the matplotlib target/channel.\n",
       "// The kernel may be null if the page has been refreshed.\n",
       "if (IPython.notebook.kernel != null) {\n",
       "    IPython.notebook.kernel.comm_manager.register_target('matplotlib', mpl.mpl_figure_comm);\n",
       "}\n"
      ],
      "text/plain": [
       "<IPython.core.display.Javascript object>"
      ]
     },
     "metadata": {},
     "output_type": "display_data"
    },
    {
     "data": {
      "text/html": [
       "<img src=\"data:image/png;base64,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\" width=\"640\">"
      ],
      "text/plain": [
       "<IPython.core.display.HTML object>"
      ]
     },
     "metadata": {},
     "output_type": "display_data"
    },
    {
     "data": {
      "text/plain": [
       "Text(0, 0.5, 'value')"
      ]
     },
     "execution_count": 55,
     "metadata": {},
     "output_type": "execute_result"
    }
   ],
   "source": [
    "fig = plt.figure()\n",
    "ax = fig.add_subplot(111) # 1개의 그래프위 첫번째 \n",
    "ax.plot(theta, s, '.') # 함수의 x축, y축, 을 표현 '.'은 ?? -> 점으로 표현 / '-'은 직선으로 표현\n",
    "ax.set_xlabel('theta in radians')\n",
    "ax.set_ylabel('value')\n",
    "# ax+b외에는 연속성 / 선형성이 없다 "
   ]
  },
  {
   "cell_type": "markdown",
   "metadata": {},
   "source": [
    "# 다시 수업 "
   ]
  },
  {
   "cell_type": "code",
   "execution_count": 16,
   "metadata": {},
   "outputs": [],
   "source": [
    "theta = t*2*np.pi*freq"
   ]
  },
  {
   "cell_type": "code",
   "execution_count": 17,
   "metadata": {},
   "outputs": [
    {
     "data": {
      "text/plain": [
       "array([ 6.27905195e-02,  1.25333234e-01,  1.87381315e-01, ...,\n",
       "       -1.25333234e-01, -6.27905195e-02,  1.96438672e-15])"
      ]
     },
     "execution_count": 17,
     "metadata": {},
     "output_type": "execute_result"
    }
   ],
   "source": [
    "# 그리고 나서 theta<시간의 개념이 들어있는 radian값>값을 sin함수에 집어 넣어준다. \n",
    "s = np.sin(theta)\n",
    "s"
   ]
  },
  {
   "cell_type": "code",
   "execution_count": 18,
   "metadata": {
    "scrolled": true
   },
   "outputs": [
    {
     "data": {
      "text/plain": [
       "Text(0, 0.5, 'real')"
      ]
     },
     "execution_count": 18,
     "metadata": {},
     "output_type": "execute_result"
    },
    {
     "data": {
      "image/png": "[encoded data removed]",
      "text/plain": [
       "<Figure size 432x288 with 1 Axes>"
      ]
     },
     "metadata": {
      "needs_background": "light"
     },
     "output_type": "display_data"
    }
   ],
   "source": [
    "fig = plt.figure()\n",
    "ax = fig.add_subplot(111)\n",
    "ax.plot(t[0:1000], s[0:1000], '.') # x축은 time / y축은 sin의 값 <이미 sin의 s에 theta값으로 정의되 함수이기 때문에 함수의 그래프임> \n",
    "# <[]은 일부만 한다는 뜻 / 5000를 다하지 않고 1000개만 함 / 즉, 그래프에 나온 값은 1000개다 >\n",
    "ax.set_xlabel('time(s)') \n",
    "ax.set_ylabel('real')"
   ]
  },
  {
   "cell_type": "code",
   "execution_count": 22,
   "metadata": {},
   "outputs": [
    {
     "data": {
      "text/plain": [
       "array([0.+6.28318531e-02j, 0.+1.25663706e-01j, 0.+1.88495559e-01j, ...,\n",
       "       0.+3.14033602e+02j, 0.+3.14096434e+02j, 0.+3.14159265e+02j])"
      ]
     },
     "execution_count": 22,
     "metadata": {},
     "output_type": "execute_result"
    }
   ],
   "source": [
    "kk = theta*1j\n",
    "kk"
   ]
  },
  {
   "cell_type": "code",
   "execution_count": 19,
   "metadata": {},
   "outputs": [
    {
     "data": {
      "text/plain": [
       "array([0.99802673+6.27905195e-02j, 0.9921147 +1.25333234e-01j,\n",
       "       0.98228725+1.87381315e-01j, ..., 0.9921147 -1.25333234e-01j,\n",
       "       0.99802673-6.27905195e-02j, 1.        +1.96438672e-15j])"
      ]
     },
     "execution_count": 19,
     "metadata": {},
     "output_type": "execute_result"
    }
   ],
   "source": [
    "# generate signal by complex-phasor\n",
    "c = np.exp(theta*1j)\n",
    "c\n",
    "# 실행 결과 하나 하나 전부 a+bi의 형태로 되어있다. \n",
    "# np.exp = 자연로그라고 생각하면 된다 <e> => e^theta*!j의 값 즉 NumPy의 np.exp(x) 함수는 밑(base)이 자연상수 e인 y=e^x지수함수로 변환\n",
    "# 'cos(theta) + sin(theta)i 값'의 array로 구성되어 진다.\n",
    "# 여기서 j는 허수 'i'다 / theta만 입력을 들어간다.<나머지는 고정이다> \n",
    "# -01 는 1/10 . -02는 1/10^2 -> 결국 이 소수점을 어디로 옮기느냐와 관련되어있다. \n",
    "# 이렇게 함으로서 정보의 양이 똑같음 (아무리 큰수든 작은수든 같은 정보량으로 표현된다. <개수가 same>)\n",
    "# 행렬이 복소수값으로 채워져 있음<복소수의 벡터로 채워져 있음>\n",
    "# 모든 수가 a+bi의 형태로 되어있구나 "
   ]
  },
  {
   "cell_type": "code",
   "execution_count": 20,
   "metadata": {
    "scrolled": true
   },
   "outputs": [
    {
     "data": {
      "text/plain": [
       "Text(0.5, 0, 'imag')"
      ]
     },
     "execution_count": 20,
     "metadata": {},
     "output_type": "execute_result"
    },
    {
     "data": {
      "image/png": "[encoded data removed]",
      "text/plain": [
       "<Figure size 432x288 with 1 Axes>"
      ]
     },
     "metadata": {
      "needs_background": "light"
     },
     "output_type": "display_data"
    }
   ],
   "source": [
    "# 위에 것을 어떻게 plot할까가 중요한 문제 \n",
    "fig = plt.figure()\n",
    "ax = fig.add_subplot(111, projection='3d') # projection을 3d로 만들어준다<한 theta에 따라 표현되는 값이 3개 이기 때문이다.입력이 3개다> \n",
    "# 아무것도 없으면 2d다. \n",
    "ax.plot(t[0:1000], c.real[0:1000], c.imag[0:1000], '.') \n",
    "# 3차원 벡터가 된다. <3차원의 행렬> 이 모든 값은 0,1000개로 들어있는 값이 corresponding 한다 .\n",
    "# 이미 c는 3개의 값으로 이뤄진 함수 <theta값에 t라는 개념이 들어가 있고 나머지는 그것의 결과값이다.>\n",
    "# c.real이라는 것은 a의 값만 가져온다는 것<실수, cos부분> / '.'을 통해 c에서 real 부분을 가져온다.\n",
    "# c.imag은 b의 값만 가져온다는 것<허수부분, sin부분> / '.'을 통해 c에서 imag부분을 가져온다.\n",
    "ax.set_xlabel('time (s)') #시간\n",
    "ax.set_ylabel('real') #실수\n",
    "ax.set_zlabel('imag') #허수 -> theta의 값으로 달라지는\n",
    "# 총 1000개의 점이 찍힌다. / theta값에 종속되어 있기 때문에 전부 -1에서 1사이의 값이다\n",
    "# a, b의 값을 따도 따로 받아 와서 plot을 한다. 여기다가 t의 값도 가져와서 plot한다. "
   ]
  },
  {
   "cell_type": "code",
   "execution_count": 21,
   "metadata": {
    "scrolled": true
   },
   "outputs": [
    {
     "data": {
      "text/plain": [
       "Text(0.5, 0, 'imag')"
      ]
     },
     "execution_count": 21,
     "metadata": {},
     "output_type": "execute_result"
    },
    {
     "data": {
      "image/png": "[encoded data removed]",
      "text/plain": [
       "<Figure size 432x288 with 1 Axes>"
      ]
     },
     "metadata": {
      "needs_background": "light"
     },
     "output_type": "display_data"
    }
   ],
   "source": [
    "fig = plt.figure()\n",
    "ax = fig.add_subplot(111, projection='3d') \n",
    "ax.plot(t[0:100], c.real[0:100], c.imag[0:100], '.') \n",
    "ax.set_xlabel('time (s)') \n",
    "ax.set_ylabel('real') \n",
    "ax.set_zlabel('imag') \n",
    "# 이것을 돌리면 sin 그래프 / cos 그래프가 등장 -> 왜냐하면 오일러 공식에 따르면 a의 값은 cos함수를 따르고 b의 값은 sin함수를 따르기 때문 \n",
    "# imag을 y축으로 하는 1차원 그래프가 sin / real을 y축으로 하는 1차원 그래프가 cos"
   ]
  },
  {
   "cell_type": "code",
   "execution_count": 28,
   "metadata": {
    "scrolled": true
   },
   "outputs": [
    {
     "data": {
      "text/html": [
       "\n",
       "                <audio  controls=\"controls\" >\n",
       "                    <source src=\"data:audio/wav;base64,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\" type=\"audio/wav\" />\n",
       "                    Your browser does not support the audio element.\n",
       "                </audio>\n",
       "              "
      ],
      "text/plain": [
       "<IPython.lib.display.Audio object>"
      ]
     },
     "execution_count": 28,
     "metadata": {},
     "output_type": "execute_result"
    }
   ],
   "source": [
    "ipd.Audio(t, rate=sr)\n",
    "# 소리를 들려주는 함수<audio라는 function을 가져온다.>\n",
    "# 소리로 만들어 주고 싶은 그래프<c or s 등>과sampling rate이 필요 "
   ]
  },
  {
   "cell_type": "markdown",
   "metadata": {},
   "source": [
    "# 다음 수업시간"
   ]
  },
  {
   "cell_type": "markdown",
   "metadata": {},
   "source": [
    "다음주에는 pulse train<저번에 우리가 praat으로 여러가지 pure tone을 만들어서 목에서 나는 소리를 만들어 보았다> \n",
    "이제는 코딩을 통해 pure tone을 만들어 보는 과정을 학습할 것 \n",
    ".praat에서 하던 걸 전부 하는 것 \n",
    "\n",
    "이 뒤에서 spectrogram해서 format이 만들어지는 것을 보았는데, \n",
    "우리가 직접 코딩으로 spectrogram을 구현하는 것을 학습할 것 \n"
   ]
  }
 ],
 "metadata": {
  "kernelspec": {
   "display_name": "Python 3",
   "language": "python",
   "name": "python3"
  },
  "language_info": {
   "codemirror_mode": {
    "name": "ipython",
    "version": 3
   },
   "file_extension": ".py",
   "mimetype": "text/x-python",
   "name": "python",
   "nbconvert_exporter": "python",
   "pygments_lexer": "ipython3",
   "version": "3.7.3"
  }
 },
 "nbformat": 4,
 "nbformat_minor": 2
}
