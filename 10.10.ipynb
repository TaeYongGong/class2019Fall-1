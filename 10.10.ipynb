{
 "cells": [
  {
   "cell_type": "markdown",
   "metadata": {},
   "source": [
    "# 10 / 10일 배운 거"
   ]
  },
  {
   "cell_type": "markdown",
   "metadata": {},
   "source": [
    "in 뒤에 있는 것을 하나씩 돌려서 i가 그 하나 씩 받아서 < > 실행하라 \n",
    "a에 있는 것을 하나씩 불러서 i에 할당하고 이를 print 해라 "
   ]
  },
  {
   "cell_type": "code",
   "execution_count": 5,
   "metadata": {
    "scrolled": true
   },
   "outputs": [
    {
     "name": "stdout",
     "output_type": "stream",
     "text": [
      "1\n",
      "2\n",
      "3\n",
      "4\n"
     ]
    }
   ],
   "source": [
    "a = [1, 2, 3, 4]\n",
    "for i in a:\n",
    "    print(i)"
   ]
  },
  {
   "cell_type": "code",
   "execution_count": 17,
   "metadata": {
    "scrolled": true
   },
   "outputs": [
    {
     "name": "stdout",
     "output_type": "stream",
     "text": [
      "1\n",
      "2\n",
      "3\n",
      "4\n",
      "5\n",
      "6\n",
      "7\n"
     ]
    }
   ],
   "source": [
    "a = [1, 2, 3, 4, 5, 6, 7]\n",
    "for i in range(len(a)):\n",
    "    print(a[i])"
   ]
  },
  {
   "cell_type": "markdown",
   "metadata": {},
   "source": [
    "range뒤에 함수가 오면 어떤 list를 만들어 준다 \n",
    "range(x)면 x개의 index를 만들어줘라 라는 뜻\n",
    "len (x)\n",
    "range 함수 \n",
    "첫번째는 0, 1, 2, 3, .... "
   ]
  },
  {
   "cell_type": "code",
   "execution_count": 19,
   "metadata": {},
   "outputs": [
    {
     "name": "stdout",
     "output_type": "stream",
     "text": [
      "red\n",
      "green\n",
      "blue\n",
      "purple\n",
      "red\n",
      "green\n",
      "blue\n",
      "purple\n"
     ]
    }
   ],
   "source": [
    "a = ['red', 'green', 'blue', 'purple']\n",
    "print(a[0]); print(a[1]); print(a[2]); print(a[3]);\n",
    "# 이것이 각각 print해주는 자동화가 없는 방법\n",
    "for i in a:\n",
    "    print(i)\n",
    "# 위에 거와 똑같은 결과값을 보여주지만 훨씬 간단하다. "
   ]
  },
  {
   "cell_type": "code",
   "execution_count": 25,
   "metadata": {},
   "outputs": [
    {
     "name": "stdout",
     "output_type": "stream",
     "text": [
      "red\n",
      "green\n",
      "blue\n",
      "purple\n",
      "red\n",
      "green\n",
      "blue\n",
      "purple\n",
      "0\n",
      "1\n",
      "2\n",
      "3\n"
     ]
    }
   ],
   "source": [
    "a = ['red', 'green', 'blue', 'purple']\n",
    "for i in range(4):\n",
    "    print(a[i])\n",
    "for i in range(len(a)):\n",
    "    print(a[i])\n",
    "for i in range(len(a)):\n",
    "    print(i)"
   ]
  },
  {
   "cell_type": "code",
   "execution_count": 31,
   "metadata": {},
   "outputs": [
    {
     "name": "stdout",
     "output_type": "stream",
     "text": [
      "0\n",
      "red\n",
      "red\n",
      "1\n",
      "green\n",
      "green\n",
      "2\n",
      "blue\n",
      "blue\n",
      "3\n",
      "purple\n",
      "purple\n"
     ]
    }
   ],
   "source": [
    "a = ['red', 'green', 'blue', 'purple']\n",
    "b = [0.2, 0.3, 0.1, 0.4]\n",
    "for i, s in enumerate(a):\n",
    "    print(i); print(s); print(a[i])\n",
    "# enumerate 함수 :리스트에 번호를 매긴다 / 원래 순서가 있는데 여기에 번호를 추가로 매겨준다. / 번호가 있기때문에 변수를 두개 받아줘야한다.\n",
    "                   # i는 번호 / s는 list의 자기자신 "
   ]
  },
  {
   "cell_type": "code",
   "execution_count": 38,
   "metadata": {},
   "outputs": [
    {
     "name": "stdout",
     "output_type": "stream",
     "text": [
      "red : 20.0%\n",
      "green : 30.0%\n",
      "blue : 10.0%\n",
      "purple : 40.0%\n"
     ]
    }
   ],
   "source": [
    "a = ['red', 'green', 'blue', 'purple']\n",
    "b = [0.2, 0.3, 0.1, 0.4]\n",
    "\n",
    "for i, s in enumerate(a):\n",
    "    print(\"{} : {}%\".format(s, b[i]*100))\n",
    "    # (\"{} : {}%\".format(s, b[i]*100)) s 에서는 \n",
    "    # a에서의 'red', 'green', 'blue', 'purple'을 받아주고 (','로 구별해 준다)\n",
    "    # b[i] b에서 첫번째, 두번쨰, 세번쨰, 네번째를 받아주고 /\n",
    "    # \"{} : {}%\".format은 이러한 형식으로 print out하고 앞부분은 {} 앞 , 뒷부분은 {}% 뒤로 받아준다, 중간은 :"
   ]
  },
  {
   "cell_type": "code",
   "execution_count": 44,
   "metadata": {},
   "outputs": [
    {
     "name": "stdout",
     "output_type": "stream",
     "text": [
      "red : 20.0%\n",
      "green : 30.0%\n",
      "blue : 10.0%\n",
      "purple : 40.0%\n"
     ]
    }
   ],
   "source": [
    "a = ['red', 'green', 'blue', 'purple']\n",
    "b = [0.2, 0.3, 0.1, 0.4]\n",
    "\n",
    "for s, i in zip(a,b):\n",
    "    print(\"{} : {}%\".format(s, i*100))\n",
    "    # zip은 두개를 따로 따로 합치는 함수 / 하나로 합쳐져서 a가 s에 / b가 i에 들어간다 "
   ]
  },
  {
   "cell_type": "code",
   "execution_count": 51,
   "metadata": {},
   "outputs": [
    {
     "name": "stdout",
     "output_type": "stream",
     "text": [
      "김상준\n"
     ]
    }
   ],
   "source": [
    "a = 123\n",
    "b = 0\n",
    "if a == 0:\n",
    "    print(\"yay!\")\n",
    "    print(\"let's go\")\n",
    "# if에서 =은 '=='로 표현된다 -> 여기서는 a-0이면 yay!를 print해라 \n",
    "if a != 0:\n",
    "    print(\"김상준\")\n",
    "# if에서 0이 아니면 표현 -> !=\n",
    "# 작거나 같으면 >=, 크거나 같으면 <=으로 표현 \n",
    "else: \n",
    "    print(\"no\")\n",
    "# else = if not"
   ]
  },
  {
   "cell_type": "code",
   "execution_count": 52,
   "metadata": {},
   "outputs": [
    {
     "name": "stdout",
     "output_type": "stream",
     "text": [
      "no\n"
     ]
    }
   ],
   "source": [
    "a = 123\n",
    "if a == 0:\n",
    "    print(\"yay!\")\n",
    "else: \n",
    "    print(\"no\")\n",
    "    # else = if not"
   ]
  },
  {
   "cell_type": "code",
   "execution_count": 2,
   "metadata": {},
   "outputs": [
    {
     "name": "stdout",
     "output_type": "stream",
     "text": [
      "4\n",
      "8\n"
     ]
    }
   ],
   "source": [
    "for i in range(1,3):\n",
    "    for j in range(3,5):\n",
    "          if j >=4:  # j=3일때 x -> 4번이 아니라 두번만 된다. \n",
    "            print(i*j)  \n",
    "    # 시험에 나온다 !! 중요 !! \n",
    "    # range은 마지막의 전까지 / (1,3) -> 1,2\n",
    "    # for의 뒤부분으로 가야지 print가 실행된다. \n",
    "    # for -> for -> if 이렇게 가면 뒷부분으로 가지 않으면 error가 난다. \n",
    "    # 칸 띄우기가 중요하다 "
   ]
  },
  {
   "cell_type": "code",
   "execution_count": null,
   "metadata": {},
   "outputs": [],
   "source": [
    "a = [1,2,3,4]"
   ]
  }
 ],
 "metadata": {
  "kernelspec": {
   "display_name": "Python 3",
   "language": "python",
   "name": "python3"
  },
  "language_info": {
   "codemirror_mode": {
    "name": "ipython",
    "version": 3
   },
   "file_extension": ".py",
   "mimetype": "text/x-python",
   "name": "python",
   "nbconvert_exporter": "python",
   "pygments_lexer": "ipython3",
   "version": "3.7.3"
  }
 },
 "nbformat": 4,
 "nbformat_minor": 2
}
