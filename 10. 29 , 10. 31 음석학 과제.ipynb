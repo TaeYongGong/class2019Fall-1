{
 "cells": [
  {
   "cell_type": "markdown",
   "metadata": {},
   "source": [
    "# 10.29 수업"
   ]
  },
  {
   "cell_type": "markdown",
   "metadata": {},
   "source": [
    "t=0\n",
    "for p in range(3):\n",
    "    if p<=1:\n",
    "        for q in range(4):\n",
    "            t+=q\n",
    "        for r in range(2):\n",
    "            t+=r\n",
    "print(t*r)\n",
    "이것의 답은 error가 아니라 14다."
   ]
  },
  {
   "cell_type": "markdown",
   "metadata": {},
   "source": [
    "데이터 \n",
    "1. 소리데이터\n",
    "2. 영상데이터\n",
    "3. 텍스트데이터\n",
    "4. 숫자데이터 - 반드시 숫자의 열로 표현이 되어야 함. 이런 숫자의 열을 가르켜 벡터라고 한다 \n",
    "\n",
    "이미지 -> 숫자의 집합 -> 여기서 중요한 개념이 행렬임 \n",
    "검정 -> 0 색깔에 따라 숫자가 배정되어 있음 \n",
    "\n",
    "이런 숫자 값들은 직사각형의 형태로 배열 (행렬)\n",
    "가로는 행 / 세로는 열\n",
    "\n",
    "숫자들을 한 줄로 펼치면 숫자의 긴 나열 -> 벡터\n",
    "모든 데이터는 벡터의 형태로 되어야 함. \n",
    "행렬은 벡터가 아님 / 길게 만들어야지 벡터가 됨 \n",
    "이미지는 행렬이고 그것을 길게 늘어놓은걸 벡터화한다고 한다. \n",
    "모든 것은 벡터화 해야지 다루기가 쉬움\n",
    "컬러는 rgb라느 개념이 들어감 \n",
    "\n",
    "동영상은 프레임이라는 개념이 들어가서 시간별로 이미지가 계속 있는 것임 \n",
    "영상은 -> 흑백이미지는 2차원 / 컬러이미지는 3차원(흑의 정도 / rgb가 z축으로 존재) / 영상은 4차원(컬러 이미지에 시간이라는 축이 추가) \n",
    "\n",
    "소리 -> 어떻게 벡터라이즈가 될까?\n",
    "소리 -> discrete한 값들로 되어 있음 -> 이것들이 붕괴되면서 숫자 값들이 된다. -> 벡터화 된다 \n",
    "\n",
    "텍스트\n",
    "사전이 있다고 하면 50000 단어가 있으면 첫번째 단어를 벡터화 시킬때 1000...0000 / 5만번째 단어는 0000...000001\n",
    "모든 데이터는 벡터화 시킨다 \n",
    "\n",
    "벡터와 행렬이라는 개념 소개 "
   ]
  },
  {
   "cell_type": "markdown",
   "metadata": {},
   "source": [
    "library 중에 가장 중요한것이 numpy라는 library \n",
    "list 중에서도 숫자가 들어갈 때 "
   ]
  },
  {
   "cell_type": "code",
   "execution_count": 9,
   "metadata": {},
   "outputs": [
    {
     "data": {
      "text/plain": [
       "[1, 3, 5, 2, 4, 6]"
      ]
     },
     "execution_count": 9,
     "metadata": {},
     "output_type": "execute_result"
    }
   ],
   "source": [
    "a = [1, 3, 5]\n",
    "b = [2, 4, 6]\n",
    "c = a + b\n",
    "c"
   ]
  },
  {
   "cell_type": "markdown",
   "metadata": {},
   "source": [
    "숫자를 의미있는 배열을 하게 해줄 때 numpy 함수를 쓴다 "
   ]
  },
  {
   "cell_type": "code",
   "execution_count": 10,
   "metadata": {},
   "outputs": [],
   "source": [
    "import numpy as np\n",
    "# 사실상, numpy를 설치하고 단순히 import numpy 만 해도 되지만, \n",
    "# 이를 코드에서 보다 편하게 사용하기 위해 as np 를 붙임으로써 np라는 이름으로 numpy를 사용."
   ]
  },
  {
   "cell_type": "code",
   "execution_count": 11,
   "metadata": {},
   "outputs": [],
   "source": [
    "A = np.array(a)\n",
    "B = np.array(b) \n",
    "# array는 계산이 가능한 걸로 바꿔주는 함수 / 이걸 쓰기 위해서는 numpy를 써줘야 함\n",
    "# numpy에서는 기본적으로 array라는 단위로 데이터를 관리하며 이에 대해 연산을 수행\n",
    "# array는 말그대로 행렬이라는 개념으로 생각."
   ]
  },
  {
   "cell_type": "code",
   "execution_count": 17,
   "metadata": {},
   "outputs": [
    {
     "name": "stdout",
     "output_type": "stream",
     "text": [
      "[1 3 5]\n",
      "[2 4 6]\n"
     ]
    }
   ],
   "source": [
    "print(A)\n",
    "print(B)\n",
    "# 밑의 형식으로 행렬을 만들어 준다. A는 1*3 / B는 1*3 "
   ]
  },
  {
   "cell_type": "code",
   "execution_count": 12,
   "metadata": {},
   "outputs": [
    {
     "data": {
      "text/plain": [
       "array([ 3,  7, 11])"
      ]
     },
     "execution_count": 12,
     "metadata": {},
     "output_type": "execute_result"
    }
   ],
   "source": [
    "A + B\n",
    "# numpy를 통해 계산 가능하게 해주고 행렬로서 계산을 한다"
   ]
  },
  {
   "cell_type": "code",
   "execution_count": 13,
   "metadata": {
    "scrolled": true
   },
   "outputs": [
    {
     "data": {
      "text/plain": [
       "numpy.ndarray"
      ]
     },
     "execution_count": 13,
     "metadata": {},
     "output_type": "execute_result"
    }
   ],
   "source": [
    "type(A)\n",
    "# numpy이면서 행렬이다. "
   ]
  },
  {
   "cell_type": "code",
   "execution_count": 14,
   "metadata": {},
   "outputs": [],
   "source": [
    "X = np.array([[1,2,3,],[4,5,6]])\n",
    "# array는 행렬처럼 만들어주는 함수 "
   ]
  },
  {
   "cell_type": "code",
   "execution_count": 15,
   "metadata": {
    "scrolled": false
   },
   "outputs": [
    {
     "data": {
      "text/plain": [
       "array([[1, 2, 3],\n",
       "       [4, 5, 6]])"
      ]
     },
     "execution_count": 15,
     "metadata": {},
     "output_type": "execute_result"
    }
   ],
   "source": [
    "X"
   ]
  },
  {
   "cell_type": "code",
   "execution_count": 16,
   "metadata": {},
   "outputs": [
    {
     "data": {
      "text/plain": [
       "(2, 3)"
      ]
     },
     "execution_count": 16,
     "metadata": {},
     "output_type": "execute_result"
    }
   ],
   "source": [
    "X.shape\n",
    "# 2 by 3 행렬이라고 알려줌 / shape는 어떤 형태의 행렬인지 알려줌 \n",
    "# numpy에서는 해당 array의 크기를 알 수 있다.\n",
    "#shape 을 확인함으로써 몇개의 데이터가 있는지, 몇 차원으로 존재하는지 등을 확인할 수 있다."
   ]
  },
  {
   "cell_type": "markdown",
   "metadata": {},
   "source": [
    "# 10월 31일 수업 "
   ]
  },
  {
   "cell_type": "markdown",
   "metadata": {},
   "source": [
    "중요한 함수들이 그 함수들이 모여있는 라이브러리를 불러와야 함. \n",
    "NumPy basics\n",
    "함수가 들어있는 어떤 라이브러리를 / 패키지를 numpy라고 해서 누가 만들어 놓음 \n",
    "numpy안에 부분 집합을 계속 만들 수 있음 \n",
    "내부적에 있는 것을 부를때 numpy.A.D.함수 numpy안 A안 D안의 함수 \n",
    ".은 부분집합을 구분해주는 표시 \n",
    "import numpy -> numpy안에 있는 것을 쓸 수 가 있다 .\n",
    "or from numpy import A.D\n",
    "import라는 큰 개념으로 numpy를 불러오면서 쭉욱 부분을 나누는 방법과(구체적인 것이 필요가 없을 때)\n",
    "from을 이용해서 아예 D만 부르는 함수가 있음 "
   ]
  },
  {
   "cell_type": "markdown",
   "metadata": {},
   "source": [
    "# 1. Creation"
   ]
  },
  {
   "cell_type": "code",
   "execution_count": 2,
   "metadata": {},
   "outputs": [],
   "source": [
    "import numpy as np\n",
    "import matplotlib.pyplot as plt # matplotlib에서 pyplot을 가져오는 것 // from matplotlib import pyplot as plt를 하면 그 다음부터는 plt를 쓰면 된다.\n",
    "# numpy는 list과 비슷한데 수학적으로 계산을 하기 위해 쓴다 "
   ]
  },
  {
   "cell_type": "code",
   "execution_count": 3,
   "metadata": {},
   "outputs": [
    {
     "data": {
      "text/plain": [
       "array([[         0, 1072168960,          0],\n",
       "       [1072168960,          0,          0]])"
      ]
     },
     "execution_count": 3,
     "metadata": {},
     "output_type": "execute_result"
    }
   ],
   "source": [
    "np.empty([2,3], dtype='int') \n",
    "# numpy 중 empty 최고 상단에 있는 함수를 뜻함 / dtype = data type으로 int는 정수형 float는 실수형 등의 자료형을 만들어 준다 "
   ]
  },
  {
   "cell_type": "code",
   "execution_count": 4,
   "metadata": {},
   "outputs": [
    {
     "data": {
      "text/plain": [
       "array([[0., 0., 0.],\n",
       "       [0., 0., 0.]])"
      ]
     },
     "execution_count": 4,
     "metadata": {},
     "output_type": "execute_result"
    }
   ],
   "source": [
    "np.zeros([2,3])\n",
    "# 2,3의 행렬을 만들어 냄 / 그대신 0으로 채워져 있음 "
   ]
  },
  {
   "cell_type": "code",
   "execution_count": 5,
   "metadata": {},
   "outputs": [
    {
     "data": {
      "text/plain": [
       "array([[0, 0, 0],\n",
       "       [0, 0, 0]])"
      ]
     },
     "execution_count": 5,
     "metadata": {},
     "output_type": "execute_result"
    }
   ],
   "source": [
    "np.array([[0,0,0],[0,0,0]])\n",
    "# list'[]'<한번>에서 array'[]'<두번>로 만들어 줌 / 마지막에 ()로 끝"
   ]
  },
  {
   "cell_type": "code",
   "execution_count": 6,
   "metadata": {},
   "outputs": [
    {
     "data": {
      "text/plain": [
       "array([[1., 1., 1.],\n",
       "       [1., 1., 1.]])"
      ]
     },
     "execution_count": 6,
     "metadata": {},
     "output_type": "execute_result"
    }
   ],
   "source": [
    "np.ones([2,3])\n",
    "# one 은 1.으로 표시된다는 것을 알 수 있다. "
   ]
  },
  {
   "cell_type": "code",
   "execution_count": 7,
   "metadata": {},
   "outputs": [
    {
     "data": {
      "text/plain": [
       "array([[1, 1, 1],\n",
       "       [1, 1, 1]])"
      ]
     },
     "execution_count": 7,
     "metadata": {},
     "output_type": "execute_result"
    }
   ],
   "source": [
    "np.ones([2,3], dtype='int')\n",
    "# int를 통해서 정수형을 만들어 준다"
   ]
  },
  {
   "cell_type": "code",
   "execution_count": 8,
   "metadata": {},
   "outputs": [
    {
     "data": {
      "text/plain": [
       "array([[1., 1., 1.],\n",
       "       [1., 1., 1.]])"
      ]
     },
     "execution_count": 8,
     "metadata": {},
     "output_type": "execute_result"
    }
   ],
   "source": [
    "np.ones([2,3], dtype='float')"
   ]
  },
  {
   "cell_type": "code",
   "execution_count": 9,
   "metadata": {},
   "outputs": [
    {
     "data": {
      "text/plain": [
       "array([0, 1, 2, 3, 4])"
      ]
     },
     "execution_count": 9,
     "metadata": {},
     "output_type": "execute_result"
    }
   ],
   "source": [
    "np.arange(5)\n",
    "# arange 명령은 NumPy 버전의 range 명령"
   ]
  },
  {
   "cell_type": "code",
   "execution_count": 10,
   "metadata": {},
   "outputs": [
    {
     "data": {
      "text/plain": [
       "array([0, 1, 2, 3, 4, 5, 6, 7, 8, 9])"
      ]
     },
     "execution_count": 10,
     "metadata": {},
     "output_type": "execute_result"
    }
   ],
   "source": [
    "np.arange(0,10)"
   ]
  },
  {
   "cell_type": "code",
   "execution_count": 11,
   "metadata": {},
   "outputs": [
    {
     "data": {
      "text/plain": [
       "array([0, 2, 4, 6, 8])"
      ]
     },
     "execution_count": 11,
     "metadata": {},
     "output_type": "execute_result"
    }
   ],
   "source": [
    "np.arange(0,10,2)\n",
    "# 0투버 10까지 2만큼 띄우면서 정렬 <0,2,4,6,8> -> <10번째 수까지 안에서> "
   ]
  },
  {
   "cell_type": "code",
   "execution_count": 12,
   "metadata": {},
   "outputs": [
    {
     "data": {
      "text/plain": [
       "array([0., 2., 4., 6., 8.])"
      ]
     },
     "execution_count": 12,
     "metadata": {},
     "output_type": "execute_result"
    }
   ],
   "source": [
    "np.arange(0,10,2, dtype='float64')\n",
    "# float32는 32비트를 사용하고 float64는 64비트를 사용함"
   ]
  },
  {
   "cell_type": "code",
   "execution_count": 13,
   "metadata": {},
   "outputs": [
    {
     "data": {
      "text/plain": [
       "array([ 0.,  2.,  4.,  6.,  8., 10.])"
      ]
     },
     "execution_count": 13,
     "metadata": {},
     "output_type": "execute_result"
    }
   ],
   "source": [
    "np.linspace(0,10,6)\n",
    "# linspace 0부터 10까지 6으로 나눈 수 / 숫자의 차이가 다 똑같음 / 시작점과 끝점을 균일 간격으로 나눈 점들을 생성해 줌 "
   ]
  },
  {
   "cell_type": "code",
   "execution_count": 14,
   "metadata": {},
   "outputs": [
    {
     "data": {
      "text/plain": [
       "array([0.        , 0.83333333, 1.66666667, 2.5       , 3.33333333,\n",
       "       4.16666667, 5.        ])"
      ]
     },
     "execution_count": 14,
     "metadata": {},
     "output_type": "execute_result"
    }
   ],
   "source": [
    "np.linspace(0,5,7)\n",
    "# 0으로 시작 5로 끝나는 배열을 7개의 일정간경으로 나눠줌"
   ]
  },
  {
   "cell_type": "code",
   "execution_count": 15,
   "metadata": {},
   "outputs": [
    {
     "data": {
      "text/plain": [
       "array([[1, 2, 3],\n",
       "       [4, 5, 6]])"
      ]
     },
     "execution_count": 15,
     "metadata": {},
     "output_type": "execute_result"
    }
   ],
   "source": [
    "X = np.array([[1,2,3],[4,5,6]])\n",
    "X\n",
    "# 이거는 2차원이다. -> z축까지 생기면 3차원 \n",
    "# 3차원 표기도 가능하다.\n",
    "# []가 두개가 나온걸 보고 2차원이라는 것을 알면 된다. // []가 3개면 3차원이된다."
   ]
  },
  {
   "cell_type": "code",
   "execution_count": 16,
   "metadata": {},
   "outputs": [
    {
     "data": {
      "text/plain": [
       "array([[[ 1,  2,  3],\n",
       "        [ 4,  5,  6]],\n",
       "\n",
       "       [[ 7,  8,  9],\n",
       "        [10, 11, 12]]])"
      ]
     },
     "execution_count": 16,
     "metadata": {},
     "output_type": "execute_result"
    }
   ],
   "source": [
    "X = np.array([[[1,2,3],[4,5,6]],[[7,8,9],[10,11,12]]])\n",
    "X"
   ]
  },
  {
   "cell_type": "code",
   "execution_count": 17,
   "metadata": {},
   "outputs": [
    {
     "data": {
      "text/plain": [
       "(2, 2, 3)"
      ]
     },
     "execution_count": 17,
     "metadata": {},
     "output_type": "execute_result"
    }
   ],
   "source": [
    "X.shape\n",
    "# 구체적인 모형을 알려줌 \n",
    "# 2 -> 첫 괄호 2개 / 2 -> 두번째 괄호 두개 / 3 -> 마지막 괄호안에 있는 숫자 3개 "
   ]
  },
  {
   "cell_type": "code",
   "execution_count": 18,
   "metadata": {},
   "outputs": [
    {
     "data": {
      "text/plain": [
       "3"
      ]
     },
     "execution_count": 18,
     "metadata": {},
     "output_type": "execute_result"
    }
   ],
   "source": [
    "X.ndim\n",
    "# ndim은 몇 차원인지 알려줌"
   ]
  },
  {
   "cell_type": "code",
   "execution_count": 19,
   "metadata": {},
   "outputs": [
    {
     "data": {
      "text/plain": [
       "dtype('int32')"
      ]
     },
     "execution_count": 19,
     "metadata": {},
     "output_type": "execute_result"
    }
   ],
   "source": [
    "X.dtype\n",
    "# int는 정수형 / 32bit을 썼음"
   ]
  },
  {
   "cell_type": "code",
   "execution_count": 20,
   "metadata": {},
   "outputs": [
    {
     "data": {
      "text/plain": [
       "array([[[ 1.,  2.,  3.],\n",
       "        [ 4.,  5.,  6.]],\n",
       "\n",
       "       [[ 7.,  8.,  9.],\n",
       "        [10., 11., 12.]]])"
      ]
     },
     "execution_count": 20,
     "metadata": {},
     "output_type": "execute_result"
    }
   ],
   "source": [
    "X.astype(np.float64)\n",
    "# 타입을 바꿔주는 함수 / .을 포함(실수형)"
   ]
  },
  {
   "cell_type": "code",
   "execution_count": 21,
   "metadata": {},
   "outputs": [
    {
     "data": {
      "text/plain": [
       "array([[[0, 0, 0],\n",
       "        [0, 0, 0]],\n",
       "\n",
       "       [[0, 0, 0],\n",
       "        [0, 0, 0]]])"
      ]
     },
     "execution_count": 21,
     "metadata": {},
     "output_type": "execute_result"
    }
   ],
   "source": [
    "np.zeros_like(X)\n",
    "# 생긴건 똑같은데 원소를 전부 0으로 바꿔줌 "
   ]
  },
  {
   "cell_type": "code",
   "execution_count": 22,
   "metadata": {},
   "outputs": [
    {
     "data": {
      "text/plain": [
       "array([[[0, 0, 0],\n",
       "        [0, 0, 0]],\n",
       "\n",
       "       [[0, 0, 0],\n",
       "        [0, 0, 0]]])"
      ]
     },
     "execution_count": 22,
     "metadata": {},
     "output_type": "execute_result"
    }
   ],
   "source": [
    "X*0\n",
    "# *0해도 zeros_like이랑 같은 결과 값이 나온다."
   ]
  },
  {
   "cell_type": "markdown",
   "metadata": {},
   "source": [
    "numpy 속에 random이라는 subpackage가 있다 -> 여기서 또 nomal의 함수 "
   ]
  },
  {
   "cell_type": "code",
   "execution_count": 23,
   "metadata": {},
   "outputs": [
    {
     "name": "stdout",
     "output_type": "stream",
     "text": [
      "[-0.94496118  2.55963201  0.49692335  0.46497263 -0.85106326 -0.71781965\n",
      "  1.10657413  1.13889161 -0.2732167  -0.4088047  -0.08104693 -0.76166336\n",
      " -0.29390324  2.28773958  0.66801331 -0.65973656 -0.52892483 -1.4862816\n",
      "  1.25739561 -0.87436698  0.58075567 -2.01522536 -0.12929361  0.64348263\n",
      "  0.84776707 -0.95846533  0.67518267  0.45094951  1.231219    1.28808883\n",
      "  0.5538443   0.3094557   0.03862005  0.78847004 -0.51273342  0.82632316\n",
      "  0.48293305 -2.16654423 -1.87344842  0.81479514 -0.64930794  0.6290651\n",
      " -1.42266828 -0.9747192   0.7568193   0.31518954  0.34597555 -0.3261969\n",
      " -0.2310877   0.76512863 -0.07966849  0.92506639 -1.24525413 -1.89965435\n",
      "  1.34055087 -0.58137247 -0.28264102  0.51844184 -0.61236895 -1.46643407\n",
      "  0.4602326  -1.14502046 -0.59656409 -0.30041178 -0.18870193 -0.10626585\n",
      "  1.49143027 -1.3611332   0.26159812 -0.38487335  0.88333201  0.54784781\n",
      "  0.41546136  1.84910334  1.34611318 -1.76917398 -0.63549911  0.46386148\n",
      "  0.45050525 -0.99258117 -0.43328614 -1.94037351 -0.01363012  0.00332412\n",
      "  0.62955066 -1.56208236  1.09871323 -0.14136417  1.03716315  0.35667241\n",
      " -1.95813421  0.62375549  1.03990981  0.49781881  0.19024858 -1.20675474\n",
      "  0.79024894  1.09858793  1.22855827  0.68568996]\n"
     ]
    }
   ],
   "source": [
    "data = np.random.normal(0,1, 100)\n",
    "print(data)\n",
    "# normal distribution을 만들어 주는 함수 -> 정규분포 -> 평균과 표준편차를 알아야 함\n",
    "# 평균이 0 표준편차가 1인 정규분포에서 sample을 100개 추출해라."
   ]
  },
  {
   "cell_type": "code",
   "execution_count": 24,
   "metadata": {},
   "outputs": [
    {
     "data": {
      "text/plain": [
       "1"
      ]
     },
     "execution_count": 24,
     "metadata": {},
     "output_type": "execute_result"
    }
   ],
   "source": [
    "data.ndim\n",
    "# []가 하나밖에 없기 때문에 1차원 "
   ]
  },
  {
   "cell_type": "markdown",
   "metadata": {},
   "source": [
    "100개의 데이터가 정규분포를 보이는지를 알아본다.\n",
    "plt = pyplot 이 것도 라이버리 안에 있는 함수"
   ]
  },
  {
   "cell_type": "code",
   "execution_count": 25,
   "metadata": {},
   "outputs": [
    {
     "name": "stdout",
     "output_type": "stream",
     "text": [
      "[-0.47967297  1.29539852 -0.16677877  0.96381793  0.07147643  1.38853742\n",
      " -0.87660689 -1.96963191 -2.63480467  0.07004305 -0.52004923 -0.56658427\n",
      "  0.37542586  0.40763077  0.05214831  1.25959941 -1.69658058 -1.43714091\n",
      " -0.71461225 -1.15362209 -0.50881051 -0.40237957  0.79534783  0.03056454\n",
      "  0.31315251 -1.51018348 -2.07234935 -1.51696174  2.24343207 -0.78625118\n",
      " -0.00281672  0.68282228  2.04959935 -1.84901161 -0.67436834  0.01275605\n",
      "  0.85878455  0.25936681 -0.6374124  -0.00541861  0.62495584 -1.82426764\n",
      "  1.66756086 -0.01855631 -0.12234087 -0.70493683 -0.19849687  1.13347565\n",
      " -1.27797367 -0.78775307 -0.60954556 -0.11848917  0.4348414  -0.68653513\n",
      "  0.22762782  0.36784016 -0.98971151  0.39964834 -0.88746042  0.61788788\n",
      "  0.68771896  1.45121703 -1.00125794 -0.42931113 -1.3807123  -0.32150367\n",
      " -1.66436213  0.71589215  0.88231986  1.22306499  1.47626203 -0.0672976\n",
      " -0.81202873  1.4914886  -0.35299166  1.86044665 -0.03883582  0.24045661\n",
      "  0.57839889  1.92103309  1.47504576  1.84812371 -0.14492959  1.12969498\n",
      "  1.79438551 -0.37189502 -0.45168034 -0.96226527 -1.40004967 -0.03651592\n",
      " -1.99456908  0.22775844  0.5020047  -0.61668619 -0.49948171 -1.49470803\n",
      " -0.88041887 -1.5060057   0.81800408  0.60076432]\n"
     ]
    },
    {
     "data": {
      "image/png": "[encoded data removed]",
      "text/plain": [
       "<Figure size 432x288 with 1 Axes>"
      ]
     },
     "metadata": {
      "needs_background": "light"
     },
     "output_type": "display_data"
    }
   ],
   "source": [
    "data = np.random.normal(0,1, 100)\n",
    "print(data)\n",
    "plt.hist(data, bins=10)\n",
    "plt.show()\n",
    "# hist는 히스토그램을 뜻한다. \n",
    "# 여기서는 0기준으로 표준편차를 1로 해서 (bins는 바구니를 10개 만들어 줌 -> x축이 된다)\n",
    "# 하나의 bins에 들어가는 값이 몇개인가를 알려주는 것이 y축 \n",
    "# 여기의 값을 전부 합하면 100개 why? 100개의 값이 있는 것으로 설정했기 때문"
   ]
  },
  {
   "cell_type": "markdown",
   "metadata": {},
   "source": [
    "# 2. Manipulation"
   ]
  },
  {
   "cell_type": "code",
   "execution_count": 26,
   "metadata": {},
   "outputs": [
    {
     "data": {
      "text/plain": [
       "array([[[1., 1., 1., 1.],\n",
       "        [1., 1., 1., 1.],\n",
       "        [1., 1., 1., 1.]],\n",
       "\n",
       "       [[1., 1., 1., 1.],\n",
       "        [1., 1., 1., 1.],\n",
       "        [1., 1., 1., 1.]]])"
      ]
     },
     "execution_count": 26,
     "metadata": {},
     "output_type": "execute_result"
    }
   ],
   "source": [
    "X = np.ones([2, 3, 4])\n",
    "X"
   ]
  },
  {
   "cell_type": "code",
   "execution_count": 27,
   "metadata": {},
   "outputs": [
    {
     "data": {
      "text/plain": [
       "array([[[1., 1., 1., 1.],\n",
       "        [1., 1., 1., 1.],\n",
       "        [1., 1., 1., 1.]],\n",
       "\n",
       "       [[1., 1., 1., 1.],\n",
       "        [1., 1., 1., 1.],\n",
       "        [1., 1., 1., 1.]]])"
      ]
     },
     "execution_count": 27,
     "metadata": {},
     "output_type": "execute_result"
    }
   ],
   "source": [
    "x = np.zeros([2,3,4])\n",
    "X"
   ]
  },
  {
   "cell_type": "code",
   "execution_count": 28,
   "metadata": {},
   "outputs": [
    {
     "data": {
      "text/plain": [
       "array([[[0., 0., 0., 0.],\n",
       "        [0., 0., 0., 0.],\n",
       "        [0., 0., 0., 0.]],\n",
       "\n",
       "       [[0., 0., 0., 0.],\n",
       "        [0., 0., 0., 0.],\n",
       "        [0., 0., 0., 0.]]])"
      ]
     },
     "execution_count": 28,
     "metadata": {},
     "output_type": "execute_result"
    }
   ],
   "source": [
    "X * 0"
   ]
  },
  {
   "cell_type": "code",
   "execution_count": 29,
   "metadata": {},
   "outputs": [
    {
     "data": {
      "text/plain": [
       "array([[[1., 1.],\n",
       "        [1., 1.],\n",
       "        [1., 1.]],\n",
       "\n",
       "       [[1., 1.],\n",
       "        [1., 1.],\n",
       "        [1., 1.]],\n",
       "\n",
       "       [[1., 1.],\n",
       "        [1., 1.],\n",
       "        [1., 1.]],\n",
       "\n",
       "       [[1., 1.],\n",
       "        [1., 1.],\n",
       "        [1., 1.]]])"
      ]
     },
     "execution_count": 29,
     "metadata": {},
     "output_type": "execute_result"
    }
   ],
   "source": [
    "Y = X.reshape(4,3,-1)\n",
    "Y\n",
    "# 행렬의 형태를 바꿔준다 / 원소는 바꾸지 않는다. / 바꿀 수 없는 차원으로는 갈 수 없다.\n",
    "# 원래는 4를 적어야 하는데 알아서 하라고 할때 -1을 쓴다.-1은 어느 위치에 들어가도 상관없다(컴퓨터가 임의적으로 맞는 숫자를 집어 넣준다)\n",
    "# 3차원의 크기를 나타낼 때는 가장 바깥쪽 리스트의 길이부터 가장 안쪽 리스트 길이의 순서로 표시\n",
    "# 그리고 (x,y,z)안의 원소의 개수가 바로 벡터 형태의 1차원의 원소의 개수와 same / 따라서 reshape할때도 1차원/ 2차원/ 3차원에서 개수는 모두 같다."
   ]
  },
  {
   "cell_type": "code",
   "execution_count": 30,
   "metadata": {
    "scrolled": true
   },
   "outputs": [
    {
     "data": {
      "text/plain": [
       "True"
      ]
     },
     "execution_count": 30,
     "metadata": {},
     "output_type": "execute_result"
    }
   ],
   "source": [
    "np.allclose(X.reshape(4,3,2),Y)\n",
    "# allclose는 , 앞과 뒤가 똑같으면 true 다르면 false을 한다."
   ]
  },
  {
   "cell_type": "markdown",
   "metadata": {},
   "source": [
    "# 3. NumPy I/O"
   ]
  },
  {
   "cell_type": "code",
   "execution_count": 68,
   "metadata": {},
   "outputs": [],
   "source": [
    "a = np.random.randint(0, 10, [2, 3])\n",
    "b = np.random.random([2, 3])\n",
    "np.savez(\"C:/Users/공태영/Desktop/test\", a, b)\n",
    "# randint 0부터 10에서 원소를 뽑아서 2*3행렬을 만드어 줘라\n",
    "# random한 2*3행렬을 만들어 줘라 \n",
    "# savez는 파일로 저장해주는 함수 "
   ]
  },
  {
   "cell_type": "code",
   "execution_count": 69,
   "metadata": {},
   "outputs": [
    {
     "name": "stdout",
     "output_type": "stream",
     "text": [
      "[[0 5 8]\n",
      " [4 5 8]]\n"
     ]
    }
   ],
   "source": [
    "print(a)"
   ]
  },
  {
   "cell_type": "code",
   "execution_count": 70,
   "metadata": {},
   "outputs": [
    {
     "name": "stdout",
     "output_type": "stream",
     "text": [
      "[[0.94727525 0.28572401 0.83589151]\n",
      " [0.15924791 0.96048284 0.17604219]]\n"
     ]
    }
   ],
   "source": [
    "print(b)"
   ]
  },
  {
   "cell_type": "code",
   "execution_count": 71,
   "metadata": {},
   "outputs": [
    {
     "name": "stderr",
     "output_type": "stream",
     "text": [
      "'Is'은(는) 내부 또는 외부 명령, 실행할 수 있는 프로그램, 또는\n",
      "배치 파일이 아닙니다.\n"
     ]
    }
   ],
   "source": [
    "!Is -al test*\n",
    "# 저장되어 있는지를 확인하는 명령어 "
   ]
  },
  {
   "cell_type": "code",
   "execution_count": 72,
   "metadata": {},
   "outputs": [
    {
     "name": "stdout",
     "output_type": "stream",
     "text": [
      "No variables match your requested type.\n"
     ]
    }
   ],
   "source": [
    "del a,b\n",
    "# 삭제해주는 함수 \n",
    "%who # 사용가능한 variable가 뭐가 있는지 알려줌 "
   ]
  },
  {
   "cell_type": "code",
   "execution_count": 73,
   "metadata": {},
   "outputs": [
    {
     "data": {
      "text/plain": [
       "['arr_0', 'arr_1']"
      ]
     },
     "execution_count": 73,
     "metadata": {},
     "output_type": "execute_result"
    }
   ],
   "source": [
    "npzfiles = np.load(\"test.npz\")\n",
    "npzfiles.files\n",
    "# 불러와주는 함수 "
   ]
  },
  {
   "cell_type": "code",
   "execution_count": 74,
   "metadata": {},
   "outputs": [
    {
     "data": {
      "text/plain": [
       "array([[4, 7, 3],\n",
       "       [1, 4, 6]])"
      ]
     },
     "execution_count": 74,
     "metadata": {},
     "output_type": "execute_result"
    }
   ],
   "source": [
    "npzfiles['arr_0']\n",
    "# 불러온 함수를 꺼내 줌 "
   ]
  },
  {
   "cell_type": "code",
   "execution_count": 97,
   "metadata": {
    "scrolled": false
   },
   "outputs": [
    {
     "data": {
      "text/plain": [
       "array([[ 3.3  ,  1.7  ],\n",
       "       [ 4.4  ,  2.76 ],\n",
       "       [ 5.5  ,  2.09 ],\n",
       "       [ 6.71 ,  3.19 ],\n",
       "       [ 6.93 ,  1.694],\n",
       "       [ 4.168,  1.573],\n",
       "       [ 9.779,  3.366],\n",
       "       [ 6.182,  2.596],\n",
       "       [ 7.59 ,  2.53 ],\n",
       "       [ 2.167,  1.221],\n",
       "       [ 7.042,  2.827],\n",
       "       [10.791,  3.465],\n",
       "       [ 5.313,  1.65 ],\n",
       "       [ 7.997,  2.904],\n",
       "       [ 5.654,  2.42 ],\n",
       "       [ 9.27 ,  2.94 ],\n",
       "       [ 3.1  ,  1.3  ]])"
      ]
     },
     "execution_count": 97,
     "metadata": {},
     "output_type": "execute_result"
    }
   ],
   "source": [
    "data1 = np.loadtxt(\"https://raw.githubusercontent.com/hsnam95/class2019Fall/master/regression.csv\", delimiter=\",\", skiprows=1)\n",
    "data1\n",
    "# CSV 파일 포맷은 데이터 값이 쉽표(comma)로 구분되는 텍스트 파일 / X렬 Y렬로 이루어진 데이터 / 엑셀에서도 여는 것이 가능\n",
    "# np.loadtxt : regression.csv라는 파일을 불러와서 행렬을 만들어 준다. \n",
    "# delimier는 구분자 / skiprow = 1 은 1행을 건너뛰는 것 -> X,Y행을 건너 뛰었다.(X,Y는 데이터가 아니기 때문)"
   ]
  },
  {
   "cell_type": "code",
   "execution_count": 98,
   "metadata": {},
   "outputs": [
    {
     "data": {
      "text/plain": [
       "array([( 3.3  , 1.7  ), ( 4.4  , 2.76 ), ( 5.5  , 2.09 ), ( 6.71 , 3.19 ),\n",
       "       ( 6.93 , 1.694), ( 4.168, 1.573), ( 9.779, 3.366), ( 6.182, 2.596),\n",
       "       ( 7.59 , 2.53 ), ( 2.167, 1.221), ( 7.042, 2.827), (10.791, 3.465),\n",
       "       ( 5.313, 1.65 ), ( 7.997, 2.904), ( 5.654, 2.42 ), ( 9.27 , 2.94 ),\n",
       "       ( 3.1  , 1.3  )], dtype=[('X', '<f4'), ('Y', '<f4')])"
      ]
     },
     "execution_count": 98,
     "metadata": {},
     "output_type": "execute_result"
    }
   ],
   "source": [
    "data2 = np.loadtxt(\"https://raw.githubusercontent.com/hsnam95/class2019Fall/master/regression.csv\", delimiter=\",\", skiprows=1,  dtype={'names':(\"X\", \"Y\"), 'formats':('f', 'f')})\n",
    "data2\n",
    "# dtype는 입력 포맷을 정해준다. 첫번째는 X값을 두번째는 Y값을 /  그리고 형식 둘다 은 float(실수형)형식으로<i로 하면 정수형이 된다>"
   ]
  },
  {
   "cell_type": "code",
   "execution_count": 99,
   "metadata": {
    "scrolled": true
   },
   "outputs": [
    {
     "data": {
      "text/plain": [
       "[\"'IS'은(는) 내부 또는 외부 명령, 실행할 수 있는 프로그램, 또는\", '배치 파일이 아닙니다.']"
      ]
     },
     "execution_count": 99,
     "metadata": {},
     "output_type": "execute_result"
    }
   ],
   "source": [
    "np.savetxt(\"C:/Users/공태영/Desktop/regression_saved.csv\", data2, delimiter=\",\")\n",
    "files = !IS -I -S| regression_saved.csv\n",
    "files\n",
    "# 데이터를 저장하는 np안의 함수\n",
    "# 저장되어 있는지를 확인하는 명령어 -> 우리는 탐색기에서 확인 "
   ]
  },
  {
   "cell_type": "markdown",
   "metadata": {},
   "source": [
    "# 4. Inspecting"
   ]
  },
  {
   "cell_type": "code",
   "execution_count": 60,
   "metadata": {},
   "outputs": [],
   "source": [
    "arr = np.random.random([5,2,3])"
   ]
  },
  {
   "cell_type": "code",
   "execution_count": 76,
   "metadata": {},
   "outputs": [
    {
     "name": "stdout",
     "output_type": "stream",
     "text": [
      "<class 'numpy.ndarray'>\n",
      "5\n",
      "(5, 2, 3)\n",
      "3\n",
      "30\n",
      "float64\n"
     ]
    }
   ],
   "source": [
    "print(type(arr)) # 종류\n",
    "print(len(arr)) # 길이\n",
    "print(arr.shape)# 배열의 크기\n",
    "print(arr.ndim) # 배열의 차원\n",
    "print(arr.size) # 배열 원소의 개수\n",
    "print(arr.dtype) # 자료형"
   ]
  },
  {
   "cell_type": "code",
   "execution_count": 77,
   "metadata": {},
   "outputs": [],
   "source": [
    "a = np.arange(1,5)\n",
    "b = np.arange(9,5,-1)"
   ]
  },
  {
   "cell_type": "code",
   "execution_count": 84,
   "metadata": {},
   "outputs": [
    {
     "data": {
      "text/plain": [
       "array([1, 2, 3, 4])"
      ]
     },
     "execution_count": 84,
     "metadata": {},
     "output_type": "execute_result"
    }
   ],
   "source": [
    "a"
   ]
  },
  {
   "cell_type": "code",
   "execution_count": 82,
   "metadata": {},
   "outputs": [
    {
     "data": {
      "text/plain": [
       "array([9, 8, 7, 6])"
      ]
     },
     "execution_count": 82,
     "metadata": {},
     "output_type": "execute_result"
    }
   ],
   "source": [
    "b"
   ]
  },
  {
   "cell_type": "code",
   "execution_count": 80,
   "metadata": {},
   "outputs": [
    {
     "name": "stdout",
     "output_type": "stream",
     "text": [
      "[-8 -6 -4 -2]\n"
     ]
    }
   ],
   "source": [
    "print(a-b)"
   ]
  },
  {
   "cell_type": "code",
   "execution_count": 79,
   "metadata": {
    "scrolled": true
   },
   "outputs": [
    {
     "name": "stdout",
     "output_type": "stream",
     "text": [
      "[10 10 10 10]\n"
     ]
    }
   ],
   "source": [
    "print(a+b)"
   ]
  },
  {
   "cell_type": "code",
   "execution_count": 121,
   "metadata": {},
   "outputs": [
    {
     "name": "stdout",
     "output_type": "stream",
     "text": [
      "[[  0   2   6  12  20  30]\n",
      " [  0   8  18  30  44  60]\n",
      " [  0  14  30  48  68  90]\n",
      " [  0  20  42  66  92 120]]\n"
     ]
    }
   ],
   "source": [
    "print(a*b)"
   ]
  },
  {
   "cell_type": "markdown",
   "metadata": {},
   "source": [
    "# 5.2 Comparison"
   ]
  },
  {
   "cell_type": "code",
   "execution_count": 127,
   "metadata": {
    "scrolled": false
   },
   "outputs": [
    {
     "name": "stdout",
     "output_type": "stream",
     "text": [
      "[[1 2 3]\n",
      " [4 5 6]\n",
      " [7 8 9]]\n",
      "[[[10  9  8]\n",
      "  [ 7  6  5]\n",
      "  [ 4  3  2]]]\n"
     ]
    }
   ],
   "source": [
    "a = np.arange(1,10).reshape(3,3)\n",
    "b = np.arange(10,1,-1).reshape(-1,3,3)\n",
    "print(a)\n",
    "print(b)"
   ]
  },
  {
   "cell_type": "code",
   "execution_count": 128,
   "metadata": {},
   "outputs": [
    {
     "data": {
      "text/plain": [
       "array([[[False, False, False],\n",
       "        [False, False, False],\n",
       "        [False, False, False]]])"
      ]
     },
     "execution_count": 128,
     "metadata": {},
     "output_type": "execute_result"
    }
   ],
   "source": [
    "a == b"
   ]
  },
  {
   "cell_type": "code",
   "execution_count": 129,
   "metadata": {},
   "outputs": [
    {
     "data": {
      "text/plain": [
       "array([[[False, False, False],\n",
       "        [False, False,  True],\n",
       "        [ True,  True,  True]]])"
      ]
     },
     "execution_count": 129,
     "metadata": {},
     "output_type": "execute_result"
    }
   ],
   "source": [
    "a > b"
   ]
  },
  {
   "cell_type": "code",
   "execution_count": 130,
   "metadata": {
    "scrolled": false
   },
   "outputs": [
    {
     "name": "stdout",
     "output_type": "stream",
     "text": [
      "[[1 2 3]\n",
      " [4 5 6]\n",
      " [7 8 9]]\n"
     ]
    }
   ],
   "source": [
    "print(a)\n",
    "# 행이 1차원 열이 2차원 "
   ]
  },
  {
   "cell_type": "markdown",
   "metadata": {},
   "source": [
    "# 5.3 Aggregate (sum, min, max, mean, median, std)"
   ]
  },
  {
   "cell_type": "code",
   "execution_count": 131,
   "metadata": {},
   "outputs": [
    {
     "data": {
      "text/plain": [
       "(45, 45)"
      ]
     },
     "execution_count": 131,
     "metadata": {},
     "output_type": "execute_result"
    }
   ],
   "source": [
    "a.sum(), np.sum(a)\n",
    "# a가 이미 numpy로 만들어낸 object이기에 np.sum(a)라고 쓸 수 있다."
   ]
  },
  {
   "cell_type": "code",
   "execution_count": 132,
   "metadata": {},
   "outputs": [
    {
     "data": {
      "text/plain": [
       "(array([12, 15, 18]), array([12, 15, 18]))"
      ]
     },
     "execution_count": 132,
     "metadata": {},
     "output_type": "execute_result"
    }
   ],
   "source": [
    "a.sum(axis=0), np.sum(a, axis=0)\n",
    "# 열을 합쳐서 1차원으로 만들어 준다 "
   ]
  },
  {
   "cell_type": "code",
   "execution_count": 133,
   "metadata": {},
   "outputs": [
    {
     "data": {
      "text/plain": [
       "(array([ 6, 15, 24]), array([ 6, 15, 24]))"
      ]
     },
     "execution_count": 133,
     "metadata": {},
     "output_type": "execute_result"
    }
   ],
   "source": [
    "a.sum(axis=1), np.sum(a, axis=1)\n",
    "# 행을 합쳐서 1차원으로 만들어 준다."
   ]
  },
  {
   "cell_type": "markdown",
   "metadata": {},
   "source": [
    "# Broadcasting"
   ]
  },
  {
   "cell_type": "code",
   "execution_count": 136,
   "metadata": {},
   "outputs": [
    {
     "data": {
      "text/plain": [
       "array([[ 1,  2,  3,  4,  5,  6],\n",
       "       [ 7,  8,  9, 10, 11, 12],\n",
       "       [13, 14, 15, 16, 17, 18],\n",
       "       [19, 20, 21, 22, 23, 24]])"
      ]
     },
     "execution_count": 136,
     "metadata": {},
     "output_type": "execute_result"
    }
   ],
   "source": [
    "a = np.arange(1,25).reshape(4,6)\n",
    "a\n",
    "# arange는 1차원 -> reshape으로 2차원으로 바꿔줌 "
   ]
  },
  {
   "cell_type": "code",
   "execution_count": 137,
   "metadata": {},
   "outputs": [
    {
     "data": {
      "text/plain": [
       "array([[101, 102, 103, 104, 105, 106],\n",
       "       [107, 108, 109, 110, 111, 112],\n",
       "       [113, 114, 115, 116, 117, 118],\n",
       "       [119, 120, 121, 122, 123, 124]])"
      ]
     },
     "execution_count": 137,
     "metadata": {},
     "output_type": "execute_result"
    }
   ],
   "source": [
    "a + 100"
   ]
  },
  {
   "cell_type": "code",
   "execution_count": 138,
   "metadata": {},
   "outputs": [
    {
     "data": {
      "text/plain": [
       "array([0, 1, 2, 3, 4, 5])"
      ]
     },
     "execution_count": 138,
     "metadata": {},
     "output_type": "execute_result"
    }
   ],
   "source": [
    "b = np.arange(6)\n",
    "b"
   ]
  },
  {
   "cell_type": "code",
   "execution_count": 139,
   "metadata": {},
   "outputs": [
    {
     "data": {
      "text/plain": [
       "array([[ 1,  3,  5,  7,  9, 11],\n",
       "       [ 7,  9, 11, 13, 15, 17],\n",
       "       [13, 15, 17, 19, 21, 23],\n",
       "       [19, 21, 23, 25, 27, 29]])"
      ]
     },
     "execution_count": 139,
     "metadata": {},
     "output_type": "execute_result"
    }
   ],
   "source": [
    "a + b "
   ]
  },
  {
   "cell_type": "markdown",
   "metadata": {},
   "source": [
    "sampling rate을 만으로 한다고 규정하면 1초동안 10000개의 숫자를 우리가 담을 것이다. -> 44100hz등의 요소 -> 1초를 표현하는데 숫자의 \n",
    "개수가 44100"
   ]
  },
  {
   "cell_type": "code",
   "execution_count": 140,
   "metadata": {},
   "outputs": [
    {
     "data": {
      "text/plain": [
       "array([[0],\n",
       "       [1],\n",
       "       [2],\n",
       "       [3]])"
      ]
     },
     "execution_count": 140,
     "metadata": {},
     "output_type": "execute_result"
    }
   ],
   "source": [
    "c = np.arange(4).reshape([4,1])\n",
    "c\n",
    "# 4행 1열의 형태를 가지고 있음 "
   ]
  },
  {
   "cell_type": "code",
   "execution_count": 141,
   "metadata": {},
   "outputs": [
    {
     "data": {
      "text/plain": [
       "array([[ 1,  2,  3,  4,  5,  6],\n",
       "       [ 8,  9, 10, 11, 12, 13],\n",
       "       [15, 16, 17, 18, 19, 20],\n",
       "       [22, 23, 24, 25, 26, 27]])"
      ]
     },
     "execution_count": 141,
     "metadata": {},
     "output_type": "execute_result"
    }
   ],
   "source": [
    "a + c\n",
    "# c의 각 행에 있는 숫자들을 더해준다. "
   ]
  }
 ],
 "metadata": {
  "kernelspec": {
   "display_name": "Python 3",
   "language": "python",
   "name": "python3"
  },
  "language_info": {
   "codemirror_mode": {
    "name": "ipython",
    "version": 3
   },
   "file_extension": ".py",
   "mimetype": "text/x-python",
   "name": "python",
   "nbconvert_exporter": "python",
   "pygments_lexer": "ipython3",
   "version": "3.7.3"
  }
 },
 "nbformat": 4,
 "nbformat_minor": 2
}
